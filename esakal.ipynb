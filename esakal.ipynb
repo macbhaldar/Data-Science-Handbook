{
  "cells": [
    {
      "cell_type": "markdown",
      "metadata": {
        "id": "view-in-github",
        "colab_type": "text"
      },
      "source": [
        "<a href=\"https://colab.research.google.com/github/macbhaldar/Python-Guide/blob/main/esakal.ipynb\" target=\"_parent\"><img src=\"https://colab.research.google.com/assets/colab-badge.svg\" alt=\"Open In Colab\"/></a>"
      ]
    },
    {
      "cell_type": "code",
      "execution_count": null,
      "metadata": {
        "id": "XGV_QFWb4mNA",
        "colab": {
          "base_uri": "https://localhost:8080/"
        },
        "outputId": "eeae20e9-d8b0-4bcf-b848-0768927153c1"
      },
      "outputs": [
        {
          "output_type": "stream",
          "name": "stdout",
          "text": [
            "Image 1 downloaded and saved as /content/Pages/page1.jpg\n",
            "Image 2 downloaded and saved as /content/Pages/page2.jpg\n",
            "Image 3 downloaded and saved as /content/Pages/page3.jpg\n",
            "Image 4 downloaded and saved as /content/Pages/page4.jpg\n",
            "Image 5 downloaded and saved as /content/Pages/page5.jpg\n",
            "Image 6 downloaded and saved as /content/Pages/page6.jpg\n",
            "Image 7 downloaded and saved as /content/Pages/page7.jpg\n",
            "Image 8 downloaded and saved as /content/Pages/page8.jpg\n",
            "Image 9 downloaded and saved as /content/Pages/page9.jpg\n",
            "Image 10 downloaded and saved as /content/Pages/page10.jpg\n",
            "Error downloading image 11: HTTP Error 403: Forbidden\n",
            "Image 11 downloaded and saved as /content/Pages/page11.jpg\n",
            "Image 12 downloaded and saved as /content/Pages/page12.jpg\n",
            "Image 13 downloaded and saved as /content/Pages/page13.jpg\n",
            "Image 14 downloaded and saved as /content/Pages/page14.jpg\n",
            "Image 15 downloaded and saved as /content/Pages/page15.jpg\n",
            "Image 16 downloaded and saved as /content/Pages/page16.jpg\n",
            "Image 17 downloaded and saved as /content/Pages/page17.jpg\n",
            "Image 18 downloaded and saved as /content/Pages/page18.jpg\n",
            "Error downloading image 9: HTTP Error 403: Forbidden\n"
          ]
        }
      ],
      "source": [
        "from datetime import date\n",
        "from urllib.request import urlretrieve, HTTPError\n",
        "from PIL import Image\n",
        "import shutil\n",
        "import smtplib\n",
        "import os\n",
        "\n",
        "# Create a folder in Google Drive\n",
        "folder_path = '/content/Pages'\n",
        "os.makedirs(folder_path, exist_ok=True)\n",
        "\n",
        "today = date.today()\n",
        "d1 = today.strftime(\"%Y/%m/%d\")\n",
        "d2 = today.strftime(\"%Y_%m_%d\")\n",
        "\n",
        "Location = \"Satara\"  # Satara, Pune, Mumbai\n",
        "\n",
        "pages_folder = \"/content/Pages/\"\n",
        "output_folder = \"/content/\"\n",
        "pdf_filename = f\"eSakal_{d2}.pdf\"  # Include today's date in the filename\n",
        "\n",
        "# Image URLs\n",
        "image_urls = []\n",
        "i = 1\n",
        "\n",
        "# Download images until an HTTPError occurs\n",
        "while True:\n",
        "    try:\n",
        "        url = f\"https://epaper-sakal-application.s3.ap-south-1.amazonaws.com/EpaperData/Sakal/{Location}/{d1}/Main/Sakal_{Location}_{d2}_Main_DA_{i:03d}_PR.jpg\"\n",
        "        filename = f\"{pages_folder}page{i}.jpg\"\n",
        "        urlretrieve(url, filename)\n",
        "        print(f\"Image {i} downloaded and saved as {filename}\")\n",
        "        image_urls.append(url)\n",
        "        i += 1\n",
        "    except HTTPError as e:\n",
        "        # Break the loop when an HTTPError occurs (e.g., when the page is not found)\n",
        "        print(f\"Error downloading image {i}: {e}\")\n",
        "        last_page_first_loop = i - 1  # Remember the last page of the first loop\n",
        "        break\n",
        "\n",
        "# Reset i before entering the second loop\n",
        "i = 1\n",
        "\n",
        "while True:\n",
        "    try:\n",
        "        url = f\"https://epaper-sakal-application.s3.ap-south-1.amazonaws.com/EpaperData/Sakal/{Location}/{d1}/{Location}-Today/Sakal_{Location}_{d2}_{Location}-Today_TD_{i:03d}_PR.jpg\"\n",
        "        filename = f\"{pages_folder}page{i + last_page_first_loop}.jpg\"  # Start from the last page of the first loop\n",
        "        urlretrieve(url, filename)\n",
        "        print(f\"Image {i + last_page_first_loop} downloaded and saved as {filename}\")\n",
        "        image_urls.append(url)\n",
        "        i += 1\n",
        "    except HTTPError as e:\n",
        "        # Break the loop when an HTTPError occurs (e.g., when the page is not found)\n",
        "        print(f\"Error downloading image {i}: {e}\")\n",
        "        break\n",
        "\n",
        "# Create PDF\n",
        "pdf_path = f\"{output_folder}{pdf_filename}\"\n",
        "images = [Image.open(f\"{pages_folder}page{i}.jpg\") for i in range(1, len(image_urls) + 1)]\n",
        "images[0].save(pdf_path, \"PDF\", resolution=10.0, save_all=True, append_images=images[1:])\n",
        "\n",
        "shutil.rmtree(folder_path)\n"
      ]
    }
  ],
  "metadata": {
    "colab": {
      "provenance": [],
      "authorship_tag": "ABX9TyNX0igY85h0c+UCaD3JrvUz",
      "include_colab_link": true
    },
    "kernelspec": {
      "display_name": "Python 3",
      "name": "python3"
    },
    "language_info": {
      "name": "python"
    }
  },
  "nbformat": 4,
  "nbformat_minor": 0
}