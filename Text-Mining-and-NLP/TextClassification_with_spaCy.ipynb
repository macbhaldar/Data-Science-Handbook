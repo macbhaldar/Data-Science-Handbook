{
  "nbformat": 4,
  "nbformat_minor": 0,
  "metadata": {
    "colab": {
      "name": "TextClassification_with_spaCy.ipynb",
      "provenance": [],
      "authorship_tag": "ABX9TyPfXY+jbqQSxTBpJ+UHHRni",
      "include_colab_link": true
    },
    "kernelspec": {
      "name": "python3",
      "display_name": "Python 3"
    },
    "language_info": {
      "name": "python"
    }
  },
  "cells": [
    {
      "cell_type": "markdown",
      "metadata": {
        "id": "view-in-github",
        "colab_type": "text"
      },
      "source": [
        "<a href=\"https://colab.research.google.com/github/macbhaldar/Data-Science-Python-Handbook/blob/main/Text-Mining-and-NLP/TextClassification_with_spaCy.ipynb\" target=\"_parent\"><img src=\"https://colab.research.google.com/assets/colab-badge.svg\" alt=\"Open In Colab\"/></a>"
      ]
    },
    {
      "cell_type": "markdown",
      "source": [
        "## Text Classification"
      ],
      "metadata": {
        "id": "VHs7CvNz5jYr"
      }
    },
    {
      "cell_type": "code",
      "execution_count": 1,
      "metadata": {
        "id": "YaesosGY5XXy"
      },
      "outputs": [],
      "source": [
        "import numpy as np\n",
        "import spacy\n",
        "from sklearn.datasets import fetch_20newsgroups\n",
        "from sklearn.pipeline import Pipeline"
      ]
    },
    {
      "cell_type": "code",
      "source": [
        "# Load the filenames and data from the 20 newsgroups dataset\n",
        "twenty_train = fetch_20newsgroups(\n",
        "    subset=\"train\", shuffle=True, download_if_missing=True\n",
        ")\n",
        "twenty_test = fetch_20newsgroups(subset=\"test\", shuffle=True, download_if_missing=True)"
      ],
      "metadata": {
        "id": "AaXFk7XP5wPY"
      },
      "execution_count": 2,
      "outputs": []
    },
    {
      "cell_type": "code",
      "source": [
        "twenty_train.data[:2]"
      ],
      "metadata": {
        "colab": {
          "base_uri": "https://localhost:8080/"
        },
        "id": "A38F_vNt532p",
        "outputId": "41fa0159-f304-4572-cf92-b08cef5f6d21"
      },
      "execution_count": 3,
      "outputs": [
        {
          "output_type": "execute_result",
          "data": {
            "text/plain": [
              "[\"From: lerxst@wam.umd.edu (where's my thing)\\nSubject: WHAT car is this!?\\nNntp-Posting-Host: rac3.wam.umd.edu\\nOrganization: University of Maryland, College Park\\nLines: 15\\n\\n I was wondering if anyone out there could enlighten me on this car I saw\\nthe other day. It was a 2-door sports car, looked to be from the late 60s/\\nearly 70s. It was called a Bricklin. The doors were really small. In addition,\\nthe front bumper was separate from the rest of the body. This is \\nall I know. If anyone can tellme a model name, engine specs, years\\nof production, where this car is made, history, or whatever info you\\nhave on this funky looking car, please e-mail.\\n\\nThanks,\\n- IL\\n   ---- brought to you by your neighborhood Lerxst ----\\n\\n\\n\\n\\n\",\n",
              " \"From: guykuo@carson.u.washington.edu (Guy Kuo)\\nSubject: SI Clock Poll - Final Call\\nSummary: Final call for SI clock reports\\nKeywords: SI,acceleration,clock,upgrade\\nArticle-I.D.: shelley.1qvfo9INNc3s\\nOrganization: University of Washington\\nLines: 11\\nNNTP-Posting-Host: carson.u.washington.edu\\n\\nA fair number of brave souls who upgraded their SI clock oscillator have\\nshared their experiences for this poll. Please send a brief message detailing\\nyour experiences with the procedure. Top speed attained, CPU rated speed,\\nadd on cards and adapters, heat sinks, hour of usage per day, floppy disk\\nfunctionality with 800 and 1.4 m floppies are especially requested.\\n\\nI will be summarizing in the next two days, so please add to the network\\nknowledge base if you have done the clock upgrade and haven't answered this\\npoll. Thanks.\\n\\nGuy Kuo <guykuo@u.washington.edu>\\n\"]"
            ]
          },
          "metadata": {},
          "execution_count": 3
        }
      ]
    },
    {
      "cell_type": "code",
      "source": [
        "twenty_train.target_names"
      ],
      "metadata": {
        "colab": {
          "base_uri": "https://localhost:8080/"
        },
        "id": "BXw1unRg54qD",
        "outputId": "386c458f-7310-4960-f9ad-2b073bacfea0"
      },
      "execution_count": 4,
      "outputs": [
        {
          "output_type": "execute_result",
          "data": {
            "text/plain": [
              "['alt.atheism',\n",
              " 'comp.graphics',\n",
              " 'comp.os.ms-windows.misc',\n",
              " 'comp.sys.ibm.pc.hardware',\n",
              " 'comp.sys.mac.hardware',\n",
              " 'comp.windows.x',\n",
              " 'misc.forsale',\n",
              " 'rec.autos',\n",
              " 'rec.motorcycles',\n",
              " 'rec.sport.baseball',\n",
              " 'rec.sport.hockey',\n",
              " 'sci.crypt',\n",
              " 'sci.electronics',\n",
              " 'sci.med',\n",
              " 'sci.space',\n",
              " 'soc.religion.christian',\n",
              " 'talk.politics.guns',\n",
              " 'talk.politics.mideast',\n",
              " 'talk.politics.misc',\n",
              " 'talk.religion.misc']"
            ]
          },
          "metadata": {},
          "execution_count": 4
        }
      ]
    },
    {
      "cell_type": "code",
      "source": [
        "# Extracting features from text files\n",
        "from sklearn.feature_extraction.text import CountVectorizer\n",
        "\n",
        "count_vect = CountVectorizer()\n",
        "X_train_counts = count_vect.fit_transform(twenty_train.data)\n",
        "print(f\"Shape of Term Frequency Matrix: {X_train_counts.shape}\")"
      ],
      "metadata": {
        "colab": {
          "base_uri": "https://localhost:8080/"
        },
        "id": "xNSBs7o05-05",
        "outputId": "51bf6277-86eb-419f-fe2f-932e50fde84a"
      },
      "execution_count": 5,
      "outputs": [
        {
          "output_type": "stream",
          "name": "stdout",
          "text": [
            "Shape of Term Frequency Matrix: (11314, 130107)\n"
          ]
        }
      ]
    },
    {
      "cell_type": "code",
      "source": [
        "from sklearn.feature_extraction.text import TfidfTransformer\n",
        "\n",
        "tfidf_transformer = TfidfTransformer()\n",
        "X_train_tfidf = tfidf_transformer.fit_transform(X_train_counts)\n",
        "print(f\"Shape of TFIDF Matrix: {X_train_tfidf.shape}\")"
      ],
      "metadata": {
        "colab": {
          "base_uri": "https://localhost:8080/"
        },
        "id": "pL9ZDytq6OBO",
        "outputId": "3c5e1a30-5cdb-4238-df6a-630882efd060"
      },
      "execution_count": 6,
      "outputs": [
        {
          "output_type": "stream",
          "name": "stdout",
          "text": [
            "Shape of TFIDF Matrix: (11314, 130107)\n"
          ]
        }
      ]
    },
    {
      "cell_type": "code",
      "source": [
        "# Training Naive Bayes (NB) classifier on training data.\n",
        "from sklearn.naive_bayes import MultinomialNB\n",
        "clf = MultinomialNB().fit(X_train_tfidf, twenty_train.target)"
      ],
      "metadata": {
        "id": "GDPie0-96Sq1"
      },
      "execution_count": 7,
      "outputs": []
    },
    {
      "cell_type": "code",
      "source": [
        "# Building a pipeline\n",
        "text_nb_clf = Pipeline(\n",
        "    [\n",
        "        (\"vect\", CountVectorizer()),\n",
        "        (\"tfidf\", TfidfTransformer()),\n",
        "        (\"clf\", MultinomialNB()),\n",
        "    ]\n",
        ")\n",
        "text_nb_clf = text_nb_clf.fit(twenty_train.data, twenty_train.target)"
      ],
      "metadata": {
        "id": "dVoyyqOU6WHr"
      },
      "execution_count": 8,
      "outputs": []
    },
    {
      "cell_type": "code",
      "source": [
        "predicted = text_nb_clf.predict(twenty_test.data)\n",
        "naivebayes_clf_accuracy = np.mean(predicted == twenty_test.target) * 100.0"
      ],
      "metadata": {
        "id": "nGXeJaMi6ejM"
      },
      "execution_count": 9,
      "outputs": []
    },
    {
      "cell_type": "code",
      "source": [
        "print(f\"Test Accuracy is {naivebayes_clf_accuracy} %\")"
      ],
      "metadata": {
        "colab": {
          "base_uri": "https://localhost:8080/"
        },
        "id": "TiKAhB756hMC",
        "outputId": "3af85b58-12d3-40f1-ee18-3336bf3e3072"
      },
      "execution_count": 10,
      "outputs": [
        {
          "output_type": "stream",
          "name": "stdout",
          "text": [
            "Test Accuracy is 77.38980350504514 %\n"
          ]
        }
      ]
    },
    {
      "cell_type": "code",
      "source": [
        "# Using Logistic Regression (LR)\n",
        "from sklearn.linear_model import LogisticRegression as LR"
      ],
      "metadata": {
        "id": "u1foteLs6mVZ"
      },
      "execution_count": 11,
      "outputs": []
    },
    {
      "cell_type": "code",
      "source": [
        "%%time\n",
        "text_lr_clf = Pipeline(\n",
        "    [(\"vect\", CountVectorizer()), (\"tfidf\", TfidfTransformer()), (\"clf\", LR())]\n",
        ")\n",
        "text_lr_clf = text_lr_clf.fit(twenty_train.data, twenty_train.target)"
      ],
      "metadata": {
        "colab": {
          "base_uri": "https://localhost:8080/"
        },
        "id": "fnEaJSx96rRk",
        "outputId": "44d16e18-ff40-4a27-9d3f-92eec556d9fd"
      },
      "execution_count": 12,
      "outputs": [
        {
          "output_type": "stream",
          "name": "stdout",
          "text": [
            "CPU times: user 1min 18s, sys: 32.1 s, total: 1min 50s\n",
            "Wall time: 1min 11s\n"
          ]
        }
      ]
    },
    {
      "cell_type": "code",
      "source": [
        "lr_predicted = text_lr_clf.predict(twenty_test.data)\n",
        "lr_clf_accuracy = np.mean(lr_predicted == twenty_test.target) * 100.0\n",
        "print(f\"Test Accuracy is {lr_clf_accuracy}\")"
      ],
      "metadata": {
        "colab": {
          "base_uri": "https://localhost:8080/"
        },
        "id": "ga_IffZC6urO",
        "outputId": "d2bca1eb-2a5a-4f50-f533-5aee3075a8e6"
      },
      "execution_count": 13,
      "outputs": [
        {
          "output_type": "stream",
          "name": "stdout",
          "text": [
            "Test Accuracy is 82.74030801911843\n"
          ]
        }
      ]
    },
    {
      "cell_type": "code",
      "source": [
        "from sklearn.metrics import confusion_matrix\n",
        "cf = confusion_matrix(y_true=twenty_test.target, y_pred=lr_predicted)"
      ],
      "metadata": {
        "id": "L5ZCZJyi6z22"
      },
      "execution_count": 14,
      "outputs": []
    },
    {
      "cell_type": "code",
      "source": [
        "import json\n",
        "print(json.dumps(cf.tolist(), indent=2))"
      ],
      "metadata": {
        "colab": {
          "base_uri": "https://localhost:8080/"
        },
        "id": "k5Tliq4J63vn",
        "outputId": "5741d1b8-f3df-4cbc-eac2-51d7aad4d247"
      },
      "execution_count": 15,
      "outputs": [
        {
          "output_type": "stream",
          "name": "stdout",
          "text": [
            "[\n",
            "  [\n",
            "    237,\n",
            "    2,\n",
            "    0,\n",
            "    0,\n",
            "    1,\n",
            "    1,\n",
            "    4,\n",
            "    0,\n",
            "    3,\n",
            "    3,\n",
            "    0,\n",
            "    1,\n",
            "    2,\n",
            "    8,\n",
            "    2,\n",
            "    33,\n",
            "    2,\n",
            "    4,\n",
            "    1,\n",
            "    15\n",
            "  ],\n",
            "  [\n",
            "    1,\n",
            "    307,\n",
            "    14,\n",
            "    8,\n",
            "    8,\n",
            "    17,\n",
            "    6,\n",
            "    1,\n",
            "    0,\n",
            "    1,\n",
            "    0,\n",
            "    4,\n",
            "    10,\n",
            "    1,\n",
            "    4,\n",
            "    2,\n",
            "    1,\n",
            "    1,\n",
            "    2,\n",
            "    1\n",
            "  ],\n",
            "  [\n",
            "    2,\n",
            "    21,\n",
            "    289,\n",
            "    34,\n",
            "    12,\n",
            "    11,\n",
            "    2,\n",
            "    2,\n",
            "    2,\n",
            "    4,\n",
            "    0,\n",
            "    1,\n",
            "    1,\n",
            "    1,\n",
            "    3,\n",
            "    2,\n",
            "    0,\n",
            "    0,\n",
            "    6,\n",
            "    1\n",
            "  ],\n",
            "  [\n",
            "    0,\n",
            "    13,\n",
            "    23,\n",
            "    284,\n",
            "    21,\n",
            "    2,\n",
            "    14,\n",
            "    3,\n",
            "    0,\n",
            "    1,\n",
            "    1,\n",
            "    1,\n",
            "    24,\n",
            "    0,\n",
            "    3,\n",
            "    0,\n",
            "    1,\n",
            "    0,\n",
            "    0,\n",
            "    1\n",
            "  ],\n",
            "  [\n",
            "    0,\n",
            "    5,\n",
            "    6,\n",
            "    22,\n",
            "    319,\n",
            "    1,\n",
            "    10,\n",
            "    0,\n",
            "    0,\n",
            "    5,\n",
            "    1,\n",
            "    0,\n",
            "    12,\n",
            "    0,\n",
            "    1,\n",
            "    0,\n",
            "    0,\n",
            "    0,\n",
            "    3,\n",
            "    0\n",
            "  ],\n",
            "  [\n",
            "    0,\n",
            "    43,\n",
            "    38,\n",
            "    5,\n",
            "    4,\n",
            "    292,\n",
            "    3,\n",
            "    0,\n",
            "    0,\n",
            "    0,\n",
            "    0,\n",
            "    1,\n",
            "    3,\n",
            "    2,\n",
            "    4,\n",
            "    0,\n",
            "    0,\n",
            "    0,\n",
            "    0,\n",
            "    0\n",
            "  ],\n",
            "  [\n",
            "    0,\n",
            "    3,\n",
            "    2,\n",
            "    12,\n",
            "    7,\n",
            "    0,\n",
            "    351,\n",
            "    3,\n",
            "    2,\n",
            "    1,\n",
            "    1,\n",
            "    0,\n",
            "    7,\n",
            "    1,\n",
            "    0,\n",
            "    0,\n",
            "    0,\n",
            "    0,\n",
            "    0,\n",
            "    0\n",
            "  ],\n",
            "  [\n",
            "    0,\n",
            "    1,\n",
            "    1,\n",
            "    4,\n",
            "    0,\n",
            "    2,\n",
            "    14,\n",
            "    352,\n",
            "    3,\n",
            "    2,\n",
            "    0,\n",
            "    0,\n",
            "    12,\n",
            "    1,\n",
            "    1,\n",
            "    0,\n",
            "    1,\n",
            "    0,\n",
            "    2,\n",
            "    0\n",
            "  ],\n",
            "  [\n",
            "    0,\n",
            "    0,\n",
            "    0,\n",
            "    0,\n",
            "    0,\n",
            "    0,\n",
            "    6,\n",
            "    10,\n",
            "    378,\n",
            "    2,\n",
            "    0,\n",
            "    0,\n",
            "    1,\n",
            "    0,\n",
            "    0,\n",
            "    0,\n",
            "    0,\n",
            "    0,\n",
            "    1,\n",
            "    0\n",
            "  ],\n",
            "  [\n",
            "    1,\n",
            "    0,\n",
            "    0,\n",
            "    0,\n",
            "    2,\n",
            "    1,\n",
            "    6,\n",
            "    1,\n",
            "    0,\n",
            "    367,\n",
            "    15,\n",
            "    0,\n",
            "    2,\n",
            "    0,\n",
            "    0,\n",
            "    0,\n",
            "    1,\n",
            "    0,\n",
            "    0,\n",
            "    1\n",
            "  ],\n",
            "  [\n",
            "    0,\n",
            "    0,\n",
            "    0,\n",
            "    1,\n",
            "    3,\n",
            "    2,\n",
            "    2,\n",
            "    0,\n",
            "    0,\n",
            "    9,\n",
            "    379,\n",
            "    0,\n",
            "    0,\n",
            "    0,\n",
            "    0,\n",
            "    1,\n",
            "    0,\n",
            "    0,\n",
            "    2,\n",
            "    0\n",
            "  ],\n",
            "  [\n",
            "    1,\n",
            "    8,\n",
            "    3,\n",
            "    0,\n",
            "    3,\n",
            "    4,\n",
            "    5,\n",
            "    2,\n",
            "    1,\n",
            "    5,\n",
            "    0,\n",
            "    349,\n",
            "    6,\n",
            "    0,\n",
            "    1,\n",
            "    0,\n",
            "    4,\n",
            "    0,\n",
            "    4,\n",
            "    0\n",
            "  ],\n",
            "  [\n",
            "    0,\n",
            "    9,\n",
            "    5,\n",
            "    20,\n",
            "    9,\n",
            "    3,\n",
            "    8,\n",
            "    5,\n",
            "    2,\n",
            "    2,\n",
            "    0,\n",
            "    9,\n",
            "    314,\n",
            "    4,\n",
            "    2,\n",
            "    1,\n",
            "    0,\n",
            "    0,\n",
            "    0,\n",
            "    0\n",
            "  ],\n",
            "  [\n",
            "    4,\n",
            "    10,\n",
            "    1,\n",
            "    2,\n",
            "    2,\n",
            "    3,\n",
            "    15,\n",
            "    3,\n",
            "    4,\n",
            "    4,\n",
            "    0,\n",
            "    0,\n",
            "    13,\n",
            "    327,\n",
            "    0,\n",
            "    2,\n",
            "    1,\n",
            "    2,\n",
            "    3,\n",
            "    0\n",
            "  ],\n",
            "  [\n",
            "    0,\n",
            "    11,\n",
            "    0,\n",
            "    0,\n",
            "    2,\n",
            "    2,\n",
            "    2,\n",
            "    1,\n",
            "    0,\n",
            "    0,\n",
            "    1,\n",
            "    0,\n",
            "    2,\n",
            "    6,\n",
            "    361,\n",
            "    1,\n",
            "    2,\n",
            "    0,\n",
            "    3,\n",
            "    0\n",
            "  ],\n",
            "  [\n",
            "    2,\n",
            "    4,\n",
            "    2,\n",
            "    1,\n",
            "    0,\n",
            "    1,\n",
            "    1,\n",
            "    0,\n",
            "    0,\n",
            "    2,\n",
            "    0,\n",
            "    0,\n",
            "    2,\n",
            "    1,\n",
            "    3,\n",
            "    373,\n",
            "    0,\n",
            "    0,\n",
            "    0,\n",
            "    6\n",
            "  ],\n",
            "  [\n",
            "    0,\n",
            "    0,\n",
            "    0,\n",
            "    1,\n",
            "    1,\n",
            "    1,\n",
            "    6,\n",
            "    4,\n",
            "    2,\n",
            "    4,\n",
            "    1,\n",
            "    5,\n",
            "    1,\n",
            "    4,\n",
            "    2,\n",
            "    0,\n",
            "    319,\n",
            "    1,\n",
            "    9,\n",
            "    3\n",
            "  ],\n",
            "  [\n",
            "    10,\n",
            "    2,\n",
            "    0,\n",
            "    0,\n",
            "    0,\n",
            "    9,\n",
            "    1,\n",
            "    1,\n",
            "    1,\n",
            "    3,\n",
            "    1,\n",
            "    0,\n",
            "    0,\n",
            "    1,\n",
            "    0,\n",
            "    4,\n",
            "    3,\n",
            "    328,\n",
            "    12,\n",
            "    0\n",
            "  ],\n",
            "  [\n",
            "    1,\n",
            "    2,\n",
            "    0,\n",
            "    0,\n",
            "    1,\n",
            "    1,\n",
            "    4,\n",
            "    1,\n",
            "    1,\n",
            "    0,\n",
            "    0,\n",
            "    2,\n",
            "    2,\n",
            "    4,\n",
            "    8,\n",
            "    3,\n",
            "    95,\n",
            "    2,\n",
            "    182,\n",
            "    1\n",
            "  ],\n",
            "  [\n",
            "    39,\n",
            "    4,\n",
            "    0,\n",
            "    0,\n",
            "    0,\n",
            "    0,\n",
            "    4,\n",
            "    0,\n",
            "    0,\n",
            "    1,\n",
            "    2,\n",
            "    0,\n",
            "    0,\n",
            "    8,\n",
            "    3,\n",
            "    41,\n",
            "    13,\n",
            "    2,\n",
            "    10,\n",
            "    124\n",
            "  ]\n",
            "]\n"
          ]
        }
      ]
    },
    {
      "cell_type": "code",
      "source": [
        "import seaborn as sns\n",
        "import matplotlib.pyplot as plt\n",
        "\n",
        "%matplotlib inline"
      ],
      "metadata": {
        "id": "rGTPoo6q67C4"
      },
      "execution_count": 16,
      "outputs": []
    },
    {
      "cell_type": "code",
      "source": [
        "plt.figure(figsize=(20, 10))\n",
        "ax = sns.heatmap(cf, annot=True, fmt=\"d\", linewidths=0.5, center=90, vmax=200)"
      ],
      "metadata": {
        "colab": {
          "base_uri": "https://localhost:8080/",
          "height": 595
        },
        "id": "7skB-LDu7GIP",
        "outputId": "40353ec5-30df-43c2-95b8-e52712fd12f3"
      },
      "execution_count": 17,
      "outputs": [
        {
          "output_type": "display_data",
          "data": {
            "text/plain": [
              "<Figure size 1440x720 with 2 Axes>"
            ],
            "image/png": "[encoded data removed]"
          },
          "metadata": {
            "needs_background": "light"
          }
        }
      ]
    },
    {
      "cell_type": "code",
      "source": [
        "nlp = spacy.load(\"en_core_web_sm\")"
      ],
      "metadata": {
        "id": "xYVzymM77PcG"
      },
      "execution_count": 18,
      "outputs": []
    },
    {
      "cell_type": "markdown",
      "source": [
        "## Exploring spaCy"
      ],
      "metadata": {
        "id": "3TpUDFPZ7S96"
      }
    },
    {
      "cell_type": "code",
      "source": [
        "from spacy.lang.en.stop_words import STOP_WORDS\n",
        "STOP_WORDS"
      ],
      "metadata": {
        "colab": {
          "base_uri": "https://localhost:8080/"
        },
        "id": "CSJKE7Wf7VPx",
        "outputId": "38f82e31-1b62-460f-e5bd-a5ece6fa3c41"
      },
      "execution_count": 19,
      "outputs": [
        {
          "output_type": "execute_result",
          "data": {
            "text/plain": [
              "{\"'d\",\n",
              " \"'ll\",\n",
              " \"'m\",\n",
              " \"'re\",\n",
              " \"'s\",\n",
              " \"'ve\",\n",
              " 'a',\n",
              " 'about',\n",
              " 'above',\n",
              " 'across',\n",
              " 'after',\n",
              " 'afterwards',\n",
              " 'again',\n",
              " 'against',\n",
              " 'all',\n",
              " 'almost',\n",
              " 'alone',\n",
              " 'along',\n",
              " 'already',\n",
              " 'also',\n",
              " 'although',\n",
              " 'always',\n",
              " 'am',\n",
              " 'among',\n",
              " 'amongst',\n",
              " 'amount',\n",
              " 'an',\n",
              " 'and',\n",
              " 'another',\n",
              " 'any',\n",
              " 'anyhow',\n",
              " 'anyone',\n",
              " 'anything',\n",
              " 'anyway',\n",
              " 'anywhere',\n",
              " 'are',\n",
              " 'around',\n",
              " 'as',\n",
              " 'at',\n",
              " 'back',\n",
              " 'be',\n",
              " 'became',\n",
              " 'because',\n",
              " 'become',\n",
              " 'becomes',\n",
              " 'becoming',\n",
              " 'been',\n",
              " 'before',\n",
              " 'beforehand',\n",
              " 'behind',\n",
              " 'being',\n",
              " 'below',\n",
              " 'beside',\n",
              " 'besides',\n",
              " 'between',\n",
              " 'beyond',\n",
              " 'both',\n",
              " 'bottom',\n",
              " 'but',\n",
              " 'by',\n",
              " 'ca',\n",
              " 'call',\n",
              " 'can',\n",
              " 'cannot',\n",
              " 'could',\n",
              " 'did',\n",
              " 'do',\n",
              " 'does',\n",
              " 'doing',\n",
              " 'done',\n",
              " 'down',\n",
              " 'due',\n",
              " 'during',\n",
              " 'each',\n",
              " 'eight',\n",
              " 'either',\n",
              " 'eleven',\n",
              " 'else',\n",
              " 'elsewhere',\n",
              " 'empty',\n",
              " 'enough',\n",
              " 'even',\n",
              " 'ever',\n",
              " 'every',\n",
              " 'everyone',\n",
              " 'everything',\n",
              " 'everywhere',\n",
              " 'except',\n",
              " 'few',\n",
              " 'fifteen',\n",
              " 'fifty',\n",
              " 'first',\n",
              " 'five',\n",
              " 'for',\n",
              " 'former',\n",
              " 'formerly',\n",
              " 'forty',\n",
              " 'four',\n",
              " 'from',\n",
              " 'front',\n",
              " 'full',\n",
              " 'further',\n",
              " 'get',\n",
              " 'give',\n",
              " 'go',\n",
              " 'had',\n",
              " 'has',\n",
              " 'have',\n",
              " 'he',\n",
              " 'hence',\n",
              " 'her',\n",
              " 'here',\n",
              " 'hereafter',\n",
              " 'hereby',\n",
              " 'herein',\n",
              " 'hereupon',\n",
              " 'hers',\n",
              " 'herself',\n",
              " 'him',\n",
              " 'himself',\n",
              " 'his',\n",
              " 'how',\n",
              " 'however',\n",
              " 'hundred',\n",
              " 'i',\n",
              " 'if',\n",
              " 'in',\n",
              " 'indeed',\n",
              " 'into',\n",
              " 'is',\n",
              " 'it',\n",
              " 'its',\n",
              " 'itself',\n",
              " 'just',\n",
              " 'keep',\n",
              " 'last',\n",
              " 'latter',\n",
              " 'latterly',\n",
              " 'least',\n",
              " 'less',\n",
              " 'made',\n",
              " 'make',\n",
              " 'many',\n",
              " 'may',\n",
              " 'me',\n",
              " 'meanwhile',\n",
              " 'might',\n",
              " 'mine',\n",
              " 'more',\n",
              " 'moreover',\n",
              " 'most',\n",
              " 'mostly',\n",
              " 'move',\n",
              " 'much',\n",
              " 'must',\n",
              " 'my',\n",
              " 'myself',\n",
              " \"n't\",\n",
              " 'name',\n",
              " 'namely',\n",
              " 'neither',\n",
              " 'never',\n",
              " 'nevertheless',\n",
              " 'next',\n",
              " 'nine',\n",
              " 'no',\n",
              " 'nobody',\n",
              " 'none',\n",
              " 'noone',\n",
              " 'nor',\n",
              " 'not',\n",
              " 'nothing',\n",
              " 'now',\n",
              " 'nowhere',\n",
              " 'n‘t',\n",
              " 'n’t',\n",
              " 'of',\n",
              " 'off',\n",
              " 'often',\n",
              " 'on',\n",
              " 'once',\n",
              " 'one',\n",
              " 'only',\n",
              " 'onto',\n",
              " 'or',\n",
              " 'other',\n",
              " 'others',\n",
              " 'otherwise',\n",
              " 'our',\n",
              " 'ours',\n",
              " 'ourselves',\n",
              " 'out',\n",
              " 'over',\n",
              " 'own',\n",
              " 'part',\n",
              " 'per',\n",
              " 'perhaps',\n",
              " 'please',\n",
              " 'put',\n",
              " 'quite',\n",
              " 'rather',\n",
              " 're',\n",
              " 'really',\n",
              " 'regarding',\n",
              " 'same',\n",
              " 'say',\n",
              " 'see',\n",
              " 'seem',\n",
              " 'seemed',\n",
              " 'seeming',\n",
              " 'seems',\n",
              " 'serious',\n",
              " 'several',\n",
              " 'she',\n",
              " 'should',\n",
              " 'show',\n",
              " 'side',\n",
              " 'since',\n",
              " 'six',\n",
              " 'sixty',\n",
              " 'so',\n",
              " 'some',\n",
              " 'somehow',\n",
              " 'someone',\n",
              " 'something',\n",
              " 'sometime',\n",
              " 'sometimes',\n",
              " 'somewhere',\n",
              " 'still',\n",
              " 'such',\n",
              " 'take',\n",
              " 'ten',\n",
              " 'than',\n",
              " 'that',\n",
              " 'the',\n",
              " 'their',\n",
              " 'them',\n",
              " 'themselves',\n",
              " 'then',\n",
              " 'thence',\n",
              " 'there',\n",
              " 'thereafter',\n",
              " 'thereby',\n",
              " 'therefore',\n",
              " 'therein',\n",
              " 'thereupon',\n",
              " 'these',\n",
              " 'they',\n",
              " 'third',\n",
              " 'this',\n",
              " 'those',\n",
              " 'though',\n",
              " 'three',\n",
              " 'through',\n",
              " 'throughout',\n",
              " 'thru',\n",
              " 'thus',\n",
              " 'to',\n",
              " 'together',\n",
              " 'too',\n",
              " 'top',\n",
              " 'toward',\n",
              " 'towards',\n",
              " 'twelve',\n",
              " 'twenty',\n",
              " 'two',\n",
              " 'under',\n",
              " 'unless',\n",
              " 'until',\n",
              " 'up',\n",
              " 'upon',\n",
              " 'us',\n",
              " 'used',\n",
              " 'using',\n",
              " 'various',\n",
              " 'very',\n",
              " 'via',\n",
              " 'was',\n",
              " 'we',\n",
              " 'well',\n",
              " 'were',\n",
              " 'what',\n",
              " 'whatever',\n",
              " 'when',\n",
              " 'whence',\n",
              " 'whenever',\n",
              " 'where',\n",
              " 'whereafter',\n",
              " 'whereas',\n",
              " 'whereby',\n",
              " 'wherein',\n",
              " 'whereupon',\n",
              " 'wherever',\n",
              " 'whether',\n",
              " 'which',\n",
              " 'while',\n",
              " 'whither',\n",
              " 'who',\n",
              " 'whoever',\n",
              " 'whole',\n",
              " 'whom',\n",
              " 'whose',\n",
              " 'why',\n",
              " 'will',\n",
              " 'with',\n",
              " 'within',\n",
              " 'without',\n",
              " 'would',\n",
              " 'yet',\n",
              " 'you',\n",
              " 'your',\n",
              " 'yours',\n",
              " 'yourself',\n",
              " 'yourselves',\n",
              " '‘d',\n",
              " '‘ll',\n",
              " '‘m',\n",
              " '‘re',\n",
              " '‘s',\n",
              " '‘ve',\n",
              " '’d',\n",
              " '’ll',\n",
              " '’m',\n",
              " '’re',\n",
              " '’s',\n",
              " '’ve'}"
            ]
          },
          "metadata": {},
          "execution_count": 19
        }
      ]
    },
    {
      "cell_type": "code",
      "source": [
        "f'There are {len(STOP_WORDS)} stopwords in spaCy'"
      ],
      "metadata": {
        "colab": {
          "base_uri": "https://localhost:8080/",
          "height": 36
        },
        "id": "SekxVSEl7gFe",
        "outputId": "1c8cbd67-daa4-4299-ef57-5404850b255a"
      },
      "execution_count": 20,
      "outputs": [
        {
          "output_type": "execute_result",
          "data": {
            "text/plain": [
              "'There are 326 stopwords in spaCy'"
            ],
            "application/vnd.google.colaboratory.intrinsic+json": {
              "type": "string"
            }
          },
          "metadata": {},
          "execution_count": 20
        }
      ]
    },
    {
      "cell_type": "code",
      "source": [
        "# You can add your own corpora specific STOPWORDS using the .add syntax\n",
        "STOP_WORDS.add(\"your_additional_stop_word_here\")\n",
        "f'After adding your own stop words, spaCy will use {len(STOP_WORDS)} stopwords'"
      ],
      "metadata": {
        "colab": {
          "base_uri": "https://localhost:8080/",
          "height": 36
        },
        "id": "0TmoNeDs7kpM",
        "outputId": "f2c5babd-1d2b-4c9b-909f-413a7c78489d"
      },
      "execution_count": 21,
      "outputs": [
        {
          "output_type": "execute_result",
          "data": {
            "text/plain": [
              "'After adding your own stop words, spaCy will use 327 stopwords'"
            ],
            "application/vnd.google.colaboratory.intrinsic+json": {
              "type": "string"
            }
          },
          "metadata": {},
          "execution_count": 21
        }
      ]
    },
    {
      "cell_type": "code",
      "source": [
        "doc = nlp(\"I am learning the most important ideas Natural Language Processing ideas using Python\")\n",
        "print(doc)  # doc is a spaCy object which stores the entire document string"
      ],
      "metadata": {
        "colab": {
          "base_uri": "https://localhost:8080/"
        },
        "id": "kXrkOyfl7mPv",
        "outputId": "a8cb5c54-f639-4061-fa53-7bcee861f57a"
      },
      "execution_count": 22,
      "outputs": [
        {
          "output_type": "stream",
          "name": "stdout",
          "text": [
            "I am learning the most important ideas Natural Language Processing ideas using Python\n"
          ]
        }
      ]
    },
    {
      "cell_type": "code",
      "source": [
        "for token in doc:\n",
        "    print(token)"
      ],
      "metadata": {
        "colab": {
          "base_uri": "https://localhost:8080/"
        },
        "id": "hNlVzeAy7tEL",
        "outputId": "826dabb9-7f07-4930-b1c6-4cc5f8b5aa55"
      },
      "execution_count": 23,
      "outputs": [
        {
          "output_type": "stream",
          "name": "stdout",
          "text": [
            "I\n",
            "am\n",
            "learning\n",
            "the\n",
            "most\n",
            "important\n",
            "ideas\n",
            "Natural\n",
            "Language\n",
            "Processing\n",
            "ideas\n",
            "using\n",
            "Python\n"
          ]
        }
      ]
    },
    {
      "cell_type": "code",
      "source": [
        "simplified_doc = [token for token in doc if not token.is_punct | token.is_stop]\n",
        "simplified_doc"
      ],
      "metadata": {
        "colab": {
          "base_uri": "https://localhost:8080/"
        },
        "id": "H53g2yTs7yAT",
        "outputId": "600d1f1f-8438-47f1-ccb7-0303d1b87905"
      },
      "execution_count": 24,
      "outputs": [
        {
          "output_type": "execute_result",
          "data": {
            "text/plain": [
              "[learning, important, ideas, Natural, Language, Processing, ideas, Python]"
            ]
          },
          "metadata": {},
          "execution_count": 24
        }
      ]
    },
    {
      "cell_type": "code",
      "source": [
        "for token in simplified_doc:\n",
        "    print(f'Token:{token.orth_}\\tLemmatized:{token.lemma_}\\tPart-of-Speech-Tag:{token.pos_}')"
      ],
      "metadata": {
        "colab": {
          "base_uri": "https://localhost:8080/"
        },
        "id": "QwlkwW_r71x_",
        "outputId": "0e0b8937-855a-4b86-fd87-40c163b841b7"
      },
      "execution_count": 25,
      "outputs": [
        {
          "output_type": "stream",
          "name": "stdout",
          "text": [
            "Token:learning\tLemmatized:learn\tPart-of-Speech-Tag:VERB\n",
            "Token:important\tLemmatized:important\tPart-of-Speech-Tag:ADJ\n",
            "Token:ideas\tLemmatized:idea\tPart-of-Speech-Tag:NOUN\n",
            "Token:Natural\tLemmatized:Natural\tPart-of-Speech-Tag:PROPN\n",
            "Token:Language\tLemmatized:Language\tPart-of-Speech-Tag:PROPN\n",
            "Token:Processing\tLemmatized:Processing\tPart-of-Speech-Tag:PROPN\n",
            "Token:ideas\tLemmatized:idea\tPart-of-Speech-Tag:NOUN\n",
            "Token:Python\tLemmatized:Python\tPart-of-Speech-Tag:PROPN\n"
          ]
        }
      ]
    },
    {
      "cell_type": "markdown",
      "source": [
        "## Integrating back with our classifier pipeline"
      ],
      "metadata": {
        "id": "pZ2wxEGU76On"
      }
    },
    {
      "cell_type": "code",
      "source": [
        "from spacy.tokenizer import Tokenizer\n",
        "from spacy.lang.en import English\n",
        "nlp = English()\n",
        "# Create a blank Tokenizer with just the English vocab\n",
        "tokenizer = Tokenizer(nlp.vocab)\n",
        "def spacy_tokenizer(document):\n",
        "    return [token.orth_ for token in tokenizer(document)]"
      ],
      "metadata": {
        "id": "rFz4TAOQ77YM"
      },
      "execution_count": 26,
      "outputs": []
    },
    {
      "cell_type": "code",
      "source": [
        "%%time\n",
        "text_lr_clf = Pipeline([('vect', CountVectorizer()), ('tfidf', TfidfTransformer()), ('clf',LR())])\n",
        "text_lr_clf = text_lr_clf.fit(twenty_train.data, twenty_train.target)"
      ],
      "metadata": {
        "colab": {
          "base_uri": "https://localhost:8080/"
        },
        "id": "bbHccjyR8A5O",
        "outputId": "eb606ed9-a5e0-4934-9e00-59942df80035"
      },
      "execution_count": 27,
      "outputs": [
        {
          "output_type": "stream",
          "name": "stdout",
          "text": [
            "CPU times: user 1min 18s, sys: 33 s, total: 1min 51s\n",
            "Wall time: 1min 8s\n"
          ]
        }
      ]
    },
    {
      "cell_type": "code",
      "source": [
        "def calc_print_accuracy(text_clf, test):\n",
        "    predictions = text_clf.predict(test.data)\n",
        "    clf_accuracy = np.mean(predictions == test.target) * 100.\n",
        "    print(f'Test Accuracy is {clf_accuracy}')\n",
        "    return clf_accuracy\n",
        "\n",
        "calc_print_accuracy(text_lr_clf, twenty_test)"
      ],
      "metadata": {
        "colab": {
          "base_uri": "https://localhost:8080/"
        },
        "id": "DmoTQsZ98Du4",
        "outputId": "72810998-30ec-4442-abe7-12d8048acb85"
      },
      "execution_count": 28,
      "outputs": [
        {
          "output_type": "stream",
          "name": "stdout",
          "text": [
            "Test Accuracy is 82.74030801911843\n"
          ]
        },
        {
          "output_type": "execute_result",
          "data": {
            "text/plain": [
              "82.74030801911843"
            ]
          },
          "metadata": {},
          "execution_count": 28
        }
      ]
    },
    {
      "cell_type": "code",
      "source": [
        "%%time\n",
        "text_lr_clf = Pipeline([('vect', CountVectorizer(tokenizer=spacy_tokenizer, stop_words=list(STOP_WORDS))), ('tfidf', TfidfTransformer()), ('clf',LR())])\n",
        "text_lr_clf = text_lr_clf.fit(twenty_train.data, twenty_train.target)\n",
        "calc_print_accuracy(text_lr_clf, twenty_test)"
      ],
      "metadata": {
        "colab": {
          "base_uri": "https://localhost:8080/"
        },
        "id": "nZxwhpjJ8IFF",
        "outputId": "658ccc71-adf3-4d5e-b12d-c8f7c4fc5a59"
      },
      "execution_count": 29,
      "outputs": [
        {
          "output_type": "stream",
          "name": "stderr",
          "text": [
            "/usr/local/lib/python3.7/dist-packages/sklearn/linear_model/_logistic.py:818: ConvergenceWarning: lbfgs failed to converge (status=1):\n",
            "STOP: TOTAL NO. of ITERATIONS REACHED LIMIT.\n",
            "\n",
            "Increase the number of iterations (max_iter) or scale the data as shown in:\n",
            "    https://scikit-learn.org/stable/modules/preprocessing.html\n",
            "Please also refer to the documentation for alternative solver options:\n",
            "    https://scikit-learn.org/stable/modules/linear_model.html#logistic-regression\n",
            "  extra_warning_msg=_LOGISTIC_SOLVER_CONVERGENCE_MSG,\n"
          ]
        },
        {
          "output_type": "stream",
          "name": "stdout",
          "text": [
            "Test Accuracy is 79.5539033457249\n",
            "CPU times: user 3min 6s, sys: 41.1 s, total: 3min 47s\n",
            "Wall time: 2min 50s\n"
          ]
        }
      ]
    }
  ]
}