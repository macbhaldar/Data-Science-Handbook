{
  "nbformat": 4,
  "nbformat_minor": 0,
  "metadata": {
    "colab": {
      "name": "Logistic Regression - Banking.ipynb",
      "provenance": [],
      "collapsed_sections": [],
      "authorship_tag": "ABX9TyNq4Zt8ZNCrNk0r/5zC+kn9",
      "include_colab_link": true
    },
    "kernelspec": {
      "name": "python3",
      "display_name": "Python 3"
    },
    "language_info": {
      "name": "python"
    }
  },
  "cells": [
    {
      "cell_type": "markdown",
      "metadata": {
        "id": "view-in-github",
        "colab_type": "text"
      },
      "source": [
        "<a href=\"https://colab.research.google.com/github/macbhaldar/Data-Science-Python-Handbook/blob/main/Logistic-Regression/Logistic_Regression_Banking.ipynb\" target=\"_parent\"><img src=\"https://colab.research.google.com/assets/colab-badge.svg\" alt=\"Open In Colab\"/></a>"
      ]
    },
    {
      "cell_type": "code",
      "execution_count": 4,
      "metadata": {
        "id": "lgS-9Vp9eJaq"
      },
      "outputs": [],
      "source": [
        "import pandas as pd\n",
        "import numpy as np\n",
        "from sklearn import preprocessing\n",
        "import matplotlib.pyplot as plt \n",
        "plt.rc(\"font\", size=14)\n",
        "from sklearn.linear_model import LogisticRegression\n",
        "from sklearn.model_selection import train_test_split\n",
        "import seaborn as sns\n",
        "sns.set(style=\"white\")\n",
        "sns.set(style=\"whitegrid\", color_codes=True)"
      ]
    },
    {
      "cell_type": "markdown",
      "source": [
        "The dataset provides the bank customers’ information. It includes 17688 records and 21 fields."
      ],
      "metadata": {
        "id": "RIc06GON0Gyw"
      }
    },
    {
      "cell_type": "code",
      "source": [
        "data = pd.read_csv('banking.csv', header=0)\n",
        "data = data.dropna()\n",
        "print(data.shape)\n",
        "print(list(data.columns))"
      ],
      "metadata": {
        "colab": {
          "base_uri": "https://localhost:8080/"
        },
        "id": "4W6pVps9eOUb",
        "outputId": "250a16cb-d0df-4f20-ef66-b091597e7dc3"
      },
      "execution_count": 5,
      "outputs": [
        {
          "output_type": "stream",
          "name": "stdout",
          "text": [
            "(26534, 21)\n",
            "['age', 'job', 'marital', 'education', 'default', 'housing', 'loan', 'contact', 'month', 'day_of_week', 'duration', 'campaign', 'pdays', 'previous', 'poutcome', 'emp_var_rate', 'cons_price_idx', 'cons_conf_idx', 'euribor3m', 'nr_employed', 'y']\n"
          ]
        }
      ]
    },
    {
      "cell_type": "code",
      "source": [
        "# The education column of the dataset has many categories and we need to reduce the categories for a better modelling.\n",
        "data['education'].unique()"
      ],
      "metadata": {
        "colab": {
          "base_uri": "https://localhost:8080/"
        },
        "id": "RSaugdqoeeO3",
        "outputId": "a647a42a-e22f-4759-e20b-638a416ae0b4"
      },
      "execution_count": 6,
      "outputs": [
        {
          "output_type": "execute_result",
          "data": {
            "text/plain": [
              "array(['basic.4y', 'unknown', 'university.degree', 'high.school',\n",
              "       'basic.9y', 'professional.course', 'basic.6y', 'illiterate'],\n",
              "      dtype=object)"
            ]
          },
          "metadata": {},
          "execution_count": 6
        }
      ]
    },
    {
      "cell_type": "code",
      "source": [
        "# Let us group “basic.4y”, “basic.9y” and “basic.6y” together and call them “basic”.\n",
        "data['education']=np.where(data['education'] =='basic.9y', 'Basic', data['education'])\n",
        "data['education']=np.where(data['education'] =='basic.6y', 'Basic', data['education'])\n",
        "data['education']=np.where(data['education'] =='basic.4y', 'Basic', data['education'])"
      ],
      "metadata": {
        "id": "wJmiK3mxehyq"
      },
      "execution_count": 7,
      "outputs": []
    },
    {
      "cell_type": "code",
      "source": [
        "data['education'].unique()"
      ],
      "metadata": {
        "colab": {
          "base_uri": "https://localhost:8080/"
        },
        "id": "J7spoPElej0D",
        "outputId": "9d2e4801-acb9-4161-eae1-69e5632033a3"
      },
      "execution_count": 8,
      "outputs": [
        {
          "output_type": "execute_result",
          "data": {
            "text/plain": [
              "array(['Basic', 'unknown', 'university.degree', 'high.school',\n",
              "       'professional.course', 'illiterate'], dtype=object)"
            ]
          },
          "metadata": {},
          "execution_count": 8
        }
      ]
    },
    {
      "cell_type": "markdown",
      "source": [
        "### Data Exploration"
      ],
      "metadata": {
        "id": "Z9GQWefDenmg"
      }
    },
    {
      "cell_type": "code",
      "source": [
        "data['y'].value_counts()"
      ],
      "metadata": {
        "colab": {
          "base_uri": "https://localhost:8080/"
        },
        "id": "Il_rkw91esaO",
        "outputId": "4c7c2c7d-5676-41b9-ac5d-75dcc76c7b58"
      },
      "execution_count": 9,
      "outputs": [
        {
          "output_type": "execute_result",
          "data": {
            "text/plain": [
              "0.0    23479\n",
              "1.0     3055\n",
              "Name: y, dtype: int64"
            ]
          },
          "metadata": {},
          "execution_count": 9
        }
      ]
    },
    {
      "cell_type": "code",
      "source": [
        "sns.countplot(x='y', data=data, palette='hls')\n",
        "plt.show()\n",
        "plt.savefig('count_plot')"
      ],
      "metadata": {
        "colab": {
          "base_uri": "https://localhost:8080/",
          "height": 302
        },
        "id": "t-fh0f9pewl3",
        "outputId": "893d0322-91e1-4fcd-ed3b-a6b50d7ddeca"
      },
      "execution_count": 10,
      "outputs": [
        {
          "output_type": "display_data",
          "data": {
            "text/plain": [
              "<Figure size 432x288 with 1 Axes>"
            ],
            "image/png": "[encoded data removed]"
          },
          "metadata": {}
        },
        {
          "output_type": "display_data",
          "data": {
            "text/plain": [
              "<Figure size 432x288 with 0 Axes>"
            ]
          },
          "metadata": {}
        }
      ]
    },
    {
      "cell_type": "code",
      "source": [
        "count_no_sub = len(data[data['y']==0])\n",
        "count_sub = len(data[data['y']==1])\n",
        "pct_of_no_sub = count_no_sub/(count_no_sub+count_sub)\n",
        "print(\"percentage of no subscription is\", pct_of_no_sub*100)\n",
        "pct_of_sub = count_sub/(count_no_sub+count_sub)\n",
        "print(\"percentage of subscription\", pct_of_sub*100)"
      ],
      "metadata": {
        "colab": {
          "base_uri": "https://localhost:8080/"
        },
        "id": "f_P46cDje21B",
        "outputId": "8d89174e-36c9-46e7-9795-0868ead72440"
      },
      "execution_count": 11,
      "outputs": [
        {
          "output_type": "stream",
          "name": "stdout",
          "text": [
            "percentage of no subscription is 88.48647018919122\n",
            "percentage of subscription 11.513529810808773\n"
          ]
        }
      ]
    },
    {
      "cell_type": "markdown",
      "source": [
        "Our classes are imbalanced, and the ratio of no-subscription to subscription instances is 89:11."
      ],
      "metadata": {
        "id": "5mgsVYob04k2"
      }
    },
    {
      "cell_type": "code",
      "source": [
        "data.groupby('y').mean()"
      ],
      "metadata": {
        "colab": {
          "base_uri": "https://localhost:8080/",
          "height": 143
        },
        "id": "m2Jxseple6qZ",
        "outputId": "39ea8a9c-b469-4dcd-d777-383c92396c66"
      },
      "execution_count": 12,
      "outputs": [
        {
          "output_type": "execute_result",
          "data": {
            "text/plain": [
              "           age    duration  campaign       pdays  previous  emp_var_rate  \\\n",
              "y                                                                          \n",
              "0.0  39.910899  219.470080  2.635887  984.543890  0.133907      0.251480   \n",
              "1.0  40.701146  556.452046  2.031097  790.950573  0.487070     -1.213552   \n",
              "\n",
              "     cons_price_idx  cons_conf_idx  euribor3m  nr_employed  \n",
              "y                                                           \n",
              "0.0       93.606358     -40.573044   3.814634  5176.192334  \n",
              "1.0       93.370053     -39.887496   2.135008  5095.507660  "
            ],
            "text/html": [
              "\n",
              "  <div id=\"df-539fb72f-eab8-41c9-8e0d-0949a507a238\">\n",
              "    <div class=\"colab-df-container\">\n",
              "      <div>\n",
              "<style scoped>\n",
              "    .dataframe tbody tr th:only-of-type {\n",
              "        vertical-align: middle;\n",
              "    }\n",
              "\n",
              "    .dataframe tbody tr th {\n",
              "        vertical-align: top;\n",
              "    }\n",
              "\n",
              "    .dataframe thead th {\n",
              "        text-align: right;\n",
              "    }\n",
              "</style>\n",
              "<table border=\"1\" class=\"dataframe\">\n",
              "  <thead>\n",
              "    <tr style=\"text-align: right;\">\n",
              "      <th></th>\n",
              "      <th>age</th>\n",
              "      <th>duration</th>\n",
              "      <th>campaign</th>\n",
              "      <th>pdays</th>\n",
              "      <th>previous</th>\n",
              "      <th>emp_var_rate</th>\n",
              "      <th>cons_price_idx</th>\n",
              "      <th>cons_conf_idx</th>\n",
              "      <th>euribor3m</th>\n",
              "      <th>nr_employed</th>\n",
              "    </tr>\n",
              "    <tr>\n",
              "      <th>y</th>\n",
              "      <th></th>\n",
              "      <th></th>\n",
              "      <th></th>\n",
              "      <th></th>\n",
              "      <th></th>\n",
              "      <th></th>\n",
              "      <th></th>\n",
              "      <th></th>\n",
              "      <th></th>\n",
              "      <th></th>\n",
              "    </tr>\n",
              "  </thead>\n",
              "  <tbody>\n",
              "    <tr>\n",
              "      <th>0.0</th>\n",
              "      <td>39.910899</td>\n",
              "      <td>219.470080</td>\n",
              "      <td>2.635887</td>\n",
              "      <td>984.543890</td>\n",
              "      <td>0.133907</td>\n",
              "      <td>0.251480</td>\n",
              "      <td>93.606358</td>\n",
              "      <td>-40.573044</td>\n",
              "      <td>3.814634</td>\n",
              "      <td>5176.192334</td>\n",
              "    </tr>\n",
              "    <tr>\n",
              "      <th>1.0</th>\n",
              "      <td>40.701146</td>\n",
              "      <td>556.452046</td>\n",
              "      <td>2.031097</td>\n",
              "      <td>790.950573</td>\n",
              "      <td>0.487070</td>\n",
              "      <td>-1.213552</td>\n",
              "      <td>93.370053</td>\n",
              "      <td>-39.887496</td>\n",
              "      <td>2.135008</td>\n",
              "      <td>5095.507660</td>\n",
              "    </tr>\n",
              "  </tbody>\n",
              "</table>\n",
              "</div>\n",
              "      <button class=\"colab-df-convert\" onclick=\"convertToInteractive('df-539fb72f-eab8-41c9-8e0d-0949a507a238')\"\n",
              "              title=\"Convert this dataframe to an interactive table.\"\n",
              "              style=\"display:none;\">\n",
              "        \n",
              "  <svg xmlns=\"http://www.w3.org/2000/svg\" height=\"24px\"viewBox=\"0 0 24 24\"\n",
              "       width=\"24px\">\n",
              "    <path d=\"M0 0h24v24H0V0z\" fill=\"none\"/>\n",
              "    <path d=\"M18.56 5.44l.94 2.06.94-2.06 2.06-.94-2.06-.94-.94-2.06-.94 2.06-2.06.94zm-11 1L8.5 8.5l.94-2.06 2.06-.94-2.06-.94L8.5 2.5l-.94 2.06-2.06.94zm10 10l.94 2.06.94-2.06 2.06-.94-2.06-.94-.94-2.06-.94 2.06-2.06.94z\"/><path d=\"M17.41 7.96l-1.37-1.37c-.4-.4-.92-.59-1.43-.59-.52 0-1.04.2-1.43.59L10.3 9.45l-7.72 7.72c-.78.78-.78 2.05 0 2.83L4 21.41c.39.39.9.59 1.41.59.51 0 1.02-.2 1.41-.59l7.78-7.78 2.81-2.81c.8-.78.8-2.07 0-2.86zM5.41 20L4 18.59l7.72-7.72 1.47 1.35L5.41 20z\"/>\n",
              "  </svg>\n",
              "      </button>\n",
              "      \n",
              "  <style>\n",
              "    .colab-df-container {\n",
              "      display:flex;\n",
              "      flex-wrap:wrap;\n",
              "      gap: 12px;\n",
              "    }\n",
              "\n",
              "    .colab-df-convert {\n",
              "      background-color: #E8F0FE;\n",
              "      border: none;\n",
              "      border-radius: 50%;\n",
              "      cursor: pointer;\n",
              "      display: none;\n",
              "      fill: #1967D2;\n",
              "      height: 32px;\n",
              "      padding: 0 0 0 0;\n",
              "      width: 32px;\n",
              "    }\n",
              "\n",
              "    .colab-df-convert:hover {\n",
              "      background-color: #E2EBFA;\n",
              "      box-shadow: 0px 1px 2px rgba(60, 64, 67, 0.3), 0px 1px 3px 1px rgba(60, 64, 67, 0.15);\n",
              "      fill: #174EA6;\n",
              "    }\n",
              "\n",
              "    [theme=dark] .colab-df-convert {\n",
              "      background-color: #3B4455;\n",
              "      fill: #D2E3FC;\n",
              "    }\n",
              "\n",
              "    [theme=dark] .colab-df-convert:hover {\n",
              "      background-color: #434B5C;\n",
              "      box-shadow: 0px 1px 3px 1px rgba(0, 0, 0, 0.15);\n",
              "      filter: drop-shadow(0px 1px 2px rgba(0, 0, 0, 0.3));\n",
              "      fill: #FFFFFF;\n",
              "    }\n",
              "  </style>\n",
              "\n",
              "      <script>\n",
              "        const buttonEl =\n",
              "          document.querySelector('#df-539fb72f-eab8-41c9-8e0d-0949a507a238 button.colab-df-convert');\n",
              "        buttonEl.style.display =\n",
              "          google.colab.kernel.accessAllowed ? 'block' : 'none';\n",
              "\n",
              "        async function convertToInteractive(key) {\n",
              "          const element = document.querySelector('#df-539fb72f-eab8-41c9-8e0d-0949a507a238');\n",
              "          const dataTable =\n",
              "            await google.colab.kernel.invokeFunction('convertToInteractive',\n",
              "                                                     [key], {});\n",
              "          if (!dataTable) return;\n",
              "\n",
              "          const docLinkHtml = 'Like what you see? Visit the ' +\n",
              "            '<a target=\"_blank\" href=https://colab.research.google.com/notebooks/data_table.ipynb>data table notebook</a>'\n",
              "            + ' to learn more about interactive tables.';\n",
              "          element.innerHTML = '';\n",
              "          dataTable['output_type'] = 'display_data';\n",
              "          await google.colab.output.renderOutput(dataTable, element);\n",
              "          const docLink = document.createElement('div');\n",
              "          docLink.innerHTML = docLinkHtml;\n",
              "          element.appendChild(docLink);\n",
              "        }\n",
              "      </script>\n",
              "    </div>\n",
              "  </div>\n",
              "  "
            ]
          },
          "metadata": {},
          "execution_count": 12
        }
      ]
    },
    {
      "cell_type": "markdown",
      "source": [
        "#### Observations:\n",
        "- The average age of customers who bought the term deposit is higher than that of the customers who didn’t.\n",
        "- The pdays (days since the customer was last contacted) is understandably lower for the customers who bought it. The lower the pdays, the better the memory of the last call and hence the better chances of a sale.\n",
        "- Surprisingly, campaigns (number of contacts or calls made during the current campaign) are lower for customers who bought the term deposit."
      ],
      "metadata": {
        "id": "Xap_dT1ue--m"
      }
    },
    {
      "cell_type": "markdown",
      "source": [
        "calculate categorical means for other categorical variables such as education and marital status"
      ],
      "metadata": {
        "id": "_XVUkBua1Eb1"
      }
    },
    {
      "cell_type": "code",
      "source": [
        "data.groupby('job').mean()"
      ],
      "metadata": {
        "colab": {
          "base_uri": "https://localhost:8080/",
          "height": 457
        },
        "id": "GZTXS8hYfCuD",
        "outputId": "8531ee5f-24a9-4578-dc1c-b507c7152c7c"
      },
      "execution_count": 13,
      "outputs": [
        {
          "output_type": "execute_result",
          "data": {
            "text/plain": [
              "                     age    duration  campaign       pdays  previous  \\\n",
              "job                                                                    \n",
              "admin.         38.102288  254.599970  2.608644  955.500224  0.190070   \n",
              "blue-collar    39.451656  263.929575  2.554868  985.552191  0.122449   \n",
              "entrepreneur   41.673913  268.369565  2.594203  978.430642  0.138716   \n",
              "housemaid      45.519882  254.412371  2.652430  966.823270  0.110457   \n",
              "management     42.387181  255.921313  2.512246  958.627931  0.195414   \n",
              "retired        62.127949  279.692377  2.419238  901.634301  0.331216   \n",
              "self-employed  39.934479  262.816327  2.664876  976.586466  0.160043   \n",
              "services       37.913113  259.732961  2.601435  979.998007  0.153846   \n",
              "student        25.922261  273.491166  2.090106  837.747350  0.531802   \n",
              "technician     38.556554  248.401981  2.564386  961.271827  0.156416   \n",
              "unemployed     39.857820  253.075829  2.638231  936.230648  0.205371   \n",
              "unknown        45.865471  231.547085  2.641256  936.578475  0.156951   \n",
              "\n",
              "               emp_var_rate  cons_price_idx  cons_conf_idx  euribor3m  \\\n",
              "job                                                                     \n",
              "admin.             0.016704       93.537921     -40.280888   3.548575   \n",
              "blue-collar        0.258782       93.663685     -41.370492   3.780809   \n",
              "entrepreneur       0.169462       93.607479     -41.126812   3.813107   \n",
              "housemaid          0.462150       93.687080     -39.591458   4.040230   \n",
              "management        -0.030328       93.525875     -40.490620   3.582950   \n",
              "retired           -0.723049       93.426040     -38.458439   2.748401   \n",
              "self-employed      0.072932       93.546426     -40.478518   3.681635   \n",
              "services           0.216660       93.651030     -41.199083   3.740602   \n",
              "student           -1.430035       93.340569     -40.334276   1.847788   \n",
              "technician         0.254826       93.554374     -39.918613   3.798568   \n",
              "unemployed        -0.115166       93.584641     -39.911848   3.462299   \n",
              "unknown            0.360987       93.713256     -38.886996   3.965054   \n",
              "\n",
              "               nr_employed         y  \n",
              "job                                   \n",
              "admin.         5163.958576  0.134141  \n",
              "blue-collar    5175.921646  0.069254  \n",
              "entrepreneur   5176.360145  0.097308  \n",
              "housemaid      5181.219293  0.092784  \n",
              "management     5165.397134  0.113080  \n",
              "retired        5120.965517  0.255898  \n",
              "self-employed  5170.399785  0.099893  \n",
              "services       5172.803308  0.086887  \n",
              "student        5083.823675  0.328622  \n",
              "technician     5174.880788  0.110804  \n",
              "unemployed     5155.973144  0.135861  \n",
              "unknown        5174.411659  0.107623  "
            ],
            "text/html": [
              "\n",
              "  <div id=\"df-056f5f6d-6cfe-41f8-b889-e6e7093a7a10\">\n",
              "    <div class=\"colab-df-container\">\n",
              "      <div>\n",
              "<style scoped>\n",
              "    .dataframe tbody tr th:only-of-type {\n",
              "        vertical-align: middle;\n",
              "    }\n",
              "\n",
              "    .dataframe tbody tr th {\n",
              "        vertical-align: top;\n",
              "    }\n",
              "\n",
              "    .dataframe thead th {\n",
              "        text-align: right;\n",
              "    }\n",
              "</style>\n",
              "<table border=\"1\" class=\"dataframe\">\n",
              "  <thead>\n",
              "    <tr style=\"text-align: right;\">\n",
              "      <th></th>\n",
              "      <th>age</th>\n",
              "      <th>duration</th>\n",
              "      <th>campaign</th>\n",
              "      <th>pdays</th>\n",
              "      <th>previous</th>\n",
              "      <th>emp_var_rate</th>\n",
              "      <th>cons_price_idx</th>\n",
              "      <th>cons_conf_idx</th>\n",
              "      <th>euribor3m</th>\n",
              "      <th>nr_employed</th>\n",
              "      <th>y</th>\n",
              "    </tr>\n",
              "    <tr>\n",
              "      <th>job</th>\n",
              "      <th></th>\n",
              "      <th></th>\n",
              "      <th></th>\n",
              "      <th></th>\n",
              "      <th></th>\n",
              "      <th></th>\n",
              "      <th></th>\n",
              "      <th></th>\n",
              "      <th></th>\n",
              "      <th></th>\n",
              "      <th></th>\n",
              "    </tr>\n",
              "  </thead>\n",
              "  <tbody>\n",
              "    <tr>\n",
              "      <th>admin.</th>\n",
              "      <td>38.102288</td>\n",
              "      <td>254.599970</td>\n",
              "      <td>2.608644</td>\n",
              "      <td>955.500224</td>\n",
              "      <td>0.190070</td>\n",
              "      <td>0.016704</td>\n",
              "      <td>93.537921</td>\n",
              "      <td>-40.280888</td>\n",
              "      <td>3.548575</td>\n",
              "      <td>5163.958576</td>\n",
              "      <td>0.134141</td>\n",
              "    </tr>\n",
              "    <tr>\n",
              "      <th>blue-collar</th>\n",
              "      <td>39.451656</td>\n",
              "      <td>263.929575</td>\n",
              "      <td>2.554868</td>\n",
              "      <td>985.552191</td>\n",
              "      <td>0.122449</td>\n",
              "      <td>0.258782</td>\n",
              "      <td>93.663685</td>\n",
              "      <td>-41.370492</td>\n",
              "      <td>3.780809</td>\n",
              "      <td>5175.921646</td>\n",
              "      <td>0.069254</td>\n",
              "    </tr>\n",
              "    <tr>\n",
              "      <th>entrepreneur</th>\n",
              "      <td>41.673913</td>\n",
              "      <td>268.369565</td>\n",
              "      <td>2.594203</td>\n",
              "      <td>978.430642</td>\n",
              "      <td>0.138716</td>\n",
              "      <td>0.169462</td>\n",
              "      <td>93.607479</td>\n",
              "      <td>-41.126812</td>\n",
              "      <td>3.813107</td>\n",
              "      <td>5176.360145</td>\n",
              "      <td>0.097308</td>\n",
              "    </tr>\n",
              "    <tr>\n",
              "      <th>housemaid</th>\n",
              "      <td>45.519882</td>\n",
              "      <td>254.412371</td>\n",
              "      <td>2.652430</td>\n",
              "      <td>966.823270</td>\n",
              "      <td>0.110457</td>\n",
              "      <td>0.462150</td>\n",
              "      <td>93.687080</td>\n",
              "      <td>-39.591458</td>\n",
              "      <td>4.040230</td>\n",
              "      <td>5181.219293</td>\n",
              "      <td>0.092784</td>\n",
              "    </tr>\n",
              "    <tr>\n",
              "      <th>management</th>\n",
              "      <td>42.387181</td>\n",
              "      <td>255.921313</td>\n",
              "      <td>2.512246</td>\n",
              "      <td>958.627931</td>\n",
              "      <td>0.195414</td>\n",
              "      <td>-0.030328</td>\n",
              "      <td>93.525875</td>\n",
              "      <td>-40.490620</td>\n",
              "      <td>3.582950</td>\n",
              "      <td>5165.397134</td>\n",
              "      <td>0.113080</td>\n",
              "    </tr>\n",
              "    <tr>\n",
              "      <th>retired</th>\n",
              "      <td>62.127949</td>\n",
              "      <td>279.692377</td>\n",
              "      <td>2.419238</td>\n",
              "      <td>901.634301</td>\n",
              "      <td>0.331216</td>\n",
              "      <td>-0.723049</td>\n",
              "      <td>93.426040</td>\n",
              "      <td>-38.458439</td>\n",
              "      <td>2.748401</td>\n",
              "      <td>5120.965517</td>\n",
              "      <td>0.255898</td>\n",
              "    </tr>\n",
              "    <tr>\n",
              "      <th>self-employed</th>\n",
              "      <td>39.934479</td>\n",
              "      <td>262.816327</td>\n",
              "      <td>2.664876</td>\n",
              "      <td>976.586466</td>\n",
              "      <td>0.160043</td>\n",
              "      <td>0.072932</td>\n",
              "      <td>93.546426</td>\n",
              "      <td>-40.478518</td>\n",
              "      <td>3.681635</td>\n",
              "      <td>5170.399785</td>\n",
              "      <td>0.099893</td>\n",
              "    </tr>\n",
              "    <tr>\n",
              "      <th>services</th>\n",
              "      <td>37.913113</td>\n",
              "      <td>259.732961</td>\n",
              "      <td>2.601435</td>\n",
              "      <td>979.998007</td>\n",
              "      <td>0.153846</td>\n",
              "      <td>0.216660</td>\n",
              "      <td>93.651030</td>\n",
              "      <td>-41.199083</td>\n",
              "      <td>3.740602</td>\n",
              "      <td>5172.803308</td>\n",
              "      <td>0.086887</td>\n",
              "    </tr>\n",
              "    <tr>\n",
              "      <th>student</th>\n",
              "      <td>25.922261</td>\n",
              "      <td>273.491166</td>\n",
              "      <td>2.090106</td>\n",
              "      <td>837.747350</td>\n",
              "      <td>0.531802</td>\n",
              "      <td>-1.430035</td>\n",
              "      <td>93.340569</td>\n",
              "      <td>-40.334276</td>\n",
              "      <td>1.847788</td>\n",
              "      <td>5083.823675</td>\n",
              "      <td>0.328622</td>\n",
              "    </tr>\n",
              "    <tr>\n",
              "      <th>technician</th>\n",
              "      <td>38.556554</td>\n",
              "      <td>248.401981</td>\n",
              "      <td>2.564386</td>\n",
              "      <td>961.271827</td>\n",
              "      <td>0.156416</td>\n",
              "      <td>0.254826</td>\n",
              "      <td>93.554374</td>\n",
              "      <td>-39.918613</td>\n",
              "      <td>3.798568</td>\n",
              "      <td>5174.880788</td>\n",
              "      <td>0.110804</td>\n",
              "    </tr>\n",
              "    <tr>\n",
              "      <th>unemployed</th>\n",
              "      <td>39.857820</td>\n",
              "      <td>253.075829</td>\n",
              "      <td>2.638231</td>\n",
              "      <td>936.230648</td>\n",
              "      <td>0.205371</td>\n",
              "      <td>-0.115166</td>\n",
              "      <td>93.584641</td>\n",
              "      <td>-39.911848</td>\n",
              "      <td>3.462299</td>\n",
              "      <td>5155.973144</td>\n",
              "      <td>0.135861</td>\n",
              "    </tr>\n",
              "    <tr>\n",
              "      <th>unknown</th>\n",
              "      <td>45.865471</td>\n",
              "      <td>231.547085</td>\n",
              "      <td>2.641256</td>\n",
              "      <td>936.578475</td>\n",
              "      <td>0.156951</td>\n",
              "      <td>0.360987</td>\n",
              "      <td>93.713256</td>\n",
              "      <td>-38.886996</td>\n",
              "      <td>3.965054</td>\n",
              "      <td>5174.411659</td>\n",
              "      <td>0.107623</td>\n",
              "    </tr>\n",
              "  </tbody>\n",
              "</table>\n",
              "</div>\n",
              "      <button class=\"colab-df-convert\" onclick=\"convertToInteractive('df-056f5f6d-6cfe-41f8-b889-e6e7093a7a10')\"\n",
              "              title=\"Convert this dataframe to an interactive table.\"\n",
              "              style=\"display:none;\">\n",
              "        \n",
              "  <svg xmlns=\"http://www.w3.org/2000/svg\" height=\"24px\"viewBox=\"0 0 24 24\"\n",
              "       width=\"24px\">\n",
              "    <path d=\"M0 0h24v24H0V0z\" fill=\"none\"/>\n",
              "    <path d=\"M18.56 5.44l.94 2.06.94-2.06 2.06-.94-2.06-.94-.94-2.06-.94 2.06-2.06.94zm-11 1L8.5 8.5l.94-2.06 2.06-.94-2.06-.94L8.5 2.5l-.94 2.06-2.06.94zm10 10l.94 2.06.94-2.06 2.06-.94-2.06-.94-.94-2.06-.94 2.06-2.06.94z\"/><path d=\"M17.41 7.96l-1.37-1.37c-.4-.4-.92-.59-1.43-.59-.52 0-1.04.2-1.43.59L10.3 9.45l-7.72 7.72c-.78.78-.78 2.05 0 2.83L4 21.41c.39.39.9.59 1.41.59.51 0 1.02-.2 1.41-.59l7.78-7.78 2.81-2.81c.8-.78.8-2.07 0-2.86zM5.41 20L4 18.59l7.72-7.72 1.47 1.35L5.41 20z\"/>\n",
              "  </svg>\n",
              "      </button>\n",
              "      \n",
              "  <style>\n",
              "    .colab-df-container {\n",
              "      display:flex;\n",
              "      flex-wrap:wrap;\n",
              "      gap: 12px;\n",
              "    }\n",
              "\n",
              "    .colab-df-convert {\n",
              "      background-color: #E8F0FE;\n",
              "      border: none;\n",
              "      border-radius: 50%;\n",
              "      cursor: pointer;\n",
              "      display: none;\n",
              "      fill: #1967D2;\n",
              "      height: 32px;\n",
              "      padding: 0 0 0 0;\n",
              "      width: 32px;\n",
              "    }\n",
              "\n",
              "    .colab-df-convert:hover {\n",
              "      background-color: #E2EBFA;\n",
              "      box-shadow: 0px 1px 2px rgba(60, 64, 67, 0.3), 0px 1px 3px 1px rgba(60, 64, 67, 0.15);\n",
              "      fill: #174EA6;\n",
              "    }\n",
              "\n",
              "    [theme=dark] .colab-df-convert {\n",
              "      background-color: #3B4455;\n",
              "      fill: #D2E3FC;\n",
              "    }\n",
              "\n",
              "    [theme=dark] .colab-df-convert:hover {\n",
              "      background-color: #434B5C;\n",
              "      box-shadow: 0px 1px 3px 1px rgba(0, 0, 0, 0.15);\n",
              "      filter: drop-shadow(0px 1px 2px rgba(0, 0, 0, 0.3));\n",
              "      fill: #FFFFFF;\n",
              "    }\n",
              "  </style>\n",
              "\n",
              "      <script>\n",
              "        const buttonEl =\n",
              "          document.querySelector('#df-056f5f6d-6cfe-41f8-b889-e6e7093a7a10 button.colab-df-convert');\n",
              "        buttonEl.style.display =\n",
              "          google.colab.kernel.accessAllowed ? 'block' : 'none';\n",
              "\n",
              "        async function convertToInteractive(key) {\n",
              "          const element = document.querySelector('#df-056f5f6d-6cfe-41f8-b889-e6e7093a7a10');\n",
              "          const dataTable =\n",
              "            await google.colab.kernel.invokeFunction('convertToInteractive',\n",
              "                                                     [key], {});\n",
              "          if (!dataTable) return;\n",
              "\n",
              "          const docLinkHtml = 'Like what you see? Visit the ' +\n",
              "            '<a target=\"_blank\" href=https://colab.research.google.com/notebooks/data_table.ipynb>data table notebook</a>'\n",
              "            + ' to learn more about interactive tables.';\n",
              "          element.innerHTML = '';\n",
              "          dataTable['output_type'] = 'display_data';\n",
              "          await google.colab.output.renderOutput(dataTable, element);\n",
              "          const docLink = document.createElement('div');\n",
              "          docLink.innerHTML = docLinkHtml;\n",
              "          element.appendChild(docLink);\n",
              "        }\n",
              "      </script>\n",
              "    </div>\n",
              "  </div>\n",
              "  "
            ]
          },
          "metadata": {},
          "execution_count": 13
        }
      ]
    },
    {
      "cell_type": "code",
      "source": [
        "data.groupby('marital').mean()"
      ],
      "metadata": {
        "colab": {
          "base_uri": "https://localhost:8080/",
          "height": 206
        },
        "id": "HrwdNXMXfHct",
        "outputId": "db7d21fa-96a2-428f-941f-37e11141457d"
      },
      "execution_count": 14,
      "outputs": [
        {
          "output_type": "execute_result",
          "data": {
            "text/plain": [
              "                age    duration  campaign       pdays  previous  emp_var_rate  \\\n",
              "marital                                                                         \n",
              "divorced  44.789350  252.319178  2.578362  967.867206  0.175261      0.142602   \n",
              "married   42.281954  257.914499  2.581643  967.917735  0.156067      0.188768   \n",
              "single    33.172687  261.211763  2.523029  947.949644  0.213509     -0.166873   \n",
              "unknown   40.240000  286.760000  3.340000  939.580000  0.280000     -0.336000   \n",
              "\n",
              "          cons_price_idx  cons_conf_idx  euribor3m  nr_employed         y  \n",
              "marital                                                                    \n",
              "divorced       93.602852     -40.773441   3.692073  5169.991304  0.103134  \n",
              "married        93.602131     -40.253304   3.750339  5171.939371  0.103547  \n",
              "single         93.520881     -40.898738   3.317179  5154.886263  0.144756  \n",
              "unknown        93.465700     -41.050000   3.217640  5154.556000  0.140000  "
            ],
            "text/html": [
              "\n",
              "  <div id=\"df-9114e2d7-487e-44cc-a8a3-83902ae50040\">\n",
              "    <div class=\"colab-df-container\">\n",
              "      <div>\n",
              "<style scoped>\n",
              "    .dataframe tbody tr th:only-of-type {\n",
              "        vertical-align: middle;\n",
              "    }\n",
              "\n",
              "    .dataframe tbody tr th {\n",
              "        vertical-align: top;\n",
              "    }\n",
              "\n",
              "    .dataframe thead th {\n",
              "        text-align: right;\n",
              "    }\n",
              "</style>\n",
              "<table border=\"1\" class=\"dataframe\">\n",
              "  <thead>\n",
              "    <tr style=\"text-align: right;\">\n",
              "      <th></th>\n",
              "      <th>age</th>\n",
              "      <th>duration</th>\n",
              "      <th>campaign</th>\n",
              "      <th>pdays</th>\n",
              "      <th>previous</th>\n",
              "      <th>emp_var_rate</th>\n",
              "      <th>cons_price_idx</th>\n",
              "      <th>cons_conf_idx</th>\n",
              "      <th>euribor3m</th>\n",
              "      <th>nr_employed</th>\n",
              "      <th>y</th>\n",
              "    </tr>\n",
              "    <tr>\n",
              "      <th>marital</th>\n",
              "      <th></th>\n",
              "      <th></th>\n",
              "      <th></th>\n",
              "      <th></th>\n",
              "      <th></th>\n",
              "      <th></th>\n",
              "      <th></th>\n",
              "      <th></th>\n",
              "      <th></th>\n",
              "      <th></th>\n",
              "      <th></th>\n",
              "    </tr>\n",
              "  </thead>\n",
              "  <tbody>\n",
              "    <tr>\n",
              "      <th>divorced</th>\n",
              "      <td>44.789350</td>\n",
              "      <td>252.319178</td>\n",
              "      <td>2.578362</td>\n",
              "      <td>967.867206</td>\n",
              "      <td>0.175261</td>\n",
              "      <td>0.142602</td>\n",
              "      <td>93.602852</td>\n",
              "      <td>-40.773441</td>\n",
              "      <td>3.692073</td>\n",
              "      <td>5169.991304</td>\n",
              "      <td>0.103134</td>\n",
              "    </tr>\n",
              "    <tr>\n",
              "      <th>married</th>\n",
              "      <td>42.281954</td>\n",
              "      <td>257.914499</td>\n",
              "      <td>2.581643</td>\n",
              "      <td>967.917735</td>\n",
              "      <td>0.156067</td>\n",
              "      <td>0.188768</td>\n",
              "      <td>93.602131</td>\n",
              "      <td>-40.253304</td>\n",
              "      <td>3.750339</td>\n",
              "      <td>5171.939371</td>\n",
              "      <td>0.103547</td>\n",
              "    </tr>\n",
              "    <tr>\n",
              "      <th>single</th>\n",
              "      <td>33.172687</td>\n",
              "      <td>261.211763</td>\n",
              "      <td>2.523029</td>\n",
              "      <td>947.949644</td>\n",
              "      <td>0.213509</td>\n",
              "      <td>-0.166873</td>\n",
              "      <td>93.520881</td>\n",
              "      <td>-40.898738</td>\n",
              "      <td>3.317179</td>\n",
              "      <td>5154.886263</td>\n",
              "      <td>0.144756</td>\n",
              "    </tr>\n",
              "    <tr>\n",
              "      <th>unknown</th>\n",
              "      <td>40.240000</td>\n",
              "      <td>286.760000</td>\n",
              "      <td>3.340000</td>\n",
              "      <td>939.580000</td>\n",
              "      <td>0.280000</td>\n",
              "      <td>-0.336000</td>\n",
              "      <td>93.465700</td>\n",
              "      <td>-41.050000</td>\n",
              "      <td>3.217640</td>\n",
              "      <td>5154.556000</td>\n",
              "      <td>0.140000</td>\n",
              "    </tr>\n",
              "  </tbody>\n",
              "</table>\n",
              "</div>\n",
              "      <button class=\"colab-df-convert\" onclick=\"convertToInteractive('df-9114e2d7-487e-44cc-a8a3-83902ae50040')\"\n",
              "              title=\"Convert this dataframe to an interactive table.\"\n",
              "              style=\"display:none;\">\n",
              "        \n",
              "  <svg xmlns=\"http://www.w3.org/2000/svg\" height=\"24px\"viewBox=\"0 0 24 24\"\n",
              "       width=\"24px\">\n",
              "    <path d=\"M0 0h24v24H0V0z\" fill=\"none\"/>\n",
              "    <path d=\"M18.56 5.44l.94 2.06.94-2.06 2.06-.94-2.06-.94-.94-2.06-.94 2.06-2.06.94zm-11 1L8.5 8.5l.94-2.06 2.06-.94-2.06-.94L8.5 2.5l-.94 2.06-2.06.94zm10 10l.94 2.06.94-2.06 2.06-.94-2.06-.94-.94-2.06-.94 2.06-2.06.94z\"/><path d=\"M17.41 7.96l-1.37-1.37c-.4-.4-.92-.59-1.43-.59-.52 0-1.04.2-1.43.59L10.3 9.45l-7.72 7.72c-.78.78-.78 2.05 0 2.83L4 21.41c.39.39.9.59 1.41.59.51 0 1.02-.2 1.41-.59l7.78-7.78 2.81-2.81c.8-.78.8-2.07 0-2.86zM5.41 20L4 18.59l7.72-7.72 1.47 1.35L5.41 20z\"/>\n",
              "  </svg>\n",
              "      </button>\n",
              "      \n",
              "  <style>\n",
              "    .colab-df-container {\n",
              "      display:flex;\n",
              "      flex-wrap:wrap;\n",
              "      gap: 12px;\n",
              "    }\n",
              "\n",
              "    .colab-df-convert {\n",
              "      background-color: #E8F0FE;\n",
              "      border: none;\n",
              "      border-radius: 50%;\n",
              "      cursor: pointer;\n",
              "      display: none;\n",
              "      fill: #1967D2;\n",
              "      height: 32px;\n",
              "      padding: 0 0 0 0;\n",
              "      width: 32px;\n",
              "    }\n",
              "\n",
              "    .colab-df-convert:hover {\n",
              "      background-color: #E2EBFA;\n",
              "      box-shadow: 0px 1px 2px rgba(60, 64, 67, 0.3), 0px 1px 3px 1px rgba(60, 64, 67, 0.15);\n",
              "      fill: #174EA6;\n",
              "    }\n",
              "\n",
              "    [theme=dark] .colab-df-convert {\n",
              "      background-color: #3B4455;\n",
              "      fill: #D2E3FC;\n",
              "    }\n",
              "\n",
              "    [theme=dark] .colab-df-convert:hover {\n",
              "      background-color: #434B5C;\n",
              "      box-shadow: 0px 1px 3px 1px rgba(0, 0, 0, 0.15);\n",
              "      filter: drop-shadow(0px 1px 2px rgba(0, 0, 0, 0.3));\n",
              "      fill: #FFFFFF;\n",
              "    }\n",
              "  </style>\n",
              "\n",
              "      <script>\n",
              "        const buttonEl =\n",
              "          document.querySelector('#df-9114e2d7-487e-44cc-a8a3-83902ae50040 button.colab-df-convert');\n",
              "        buttonEl.style.display =\n",
              "          google.colab.kernel.accessAllowed ? 'block' : 'none';\n",
              "\n",
              "        async function convertToInteractive(key) {\n",
              "          const element = document.querySelector('#df-9114e2d7-487e-44cc-a8a3-83902ae50040');\n",
              "          const dataTable =\n",
              "            await google.colab.kernel.invokeFunction('convertToInteractive',\n",
              "                                                     [key], {});\n",
              "          if (!dataTable) return;\n",
              "\n",
              "          const docLinkHtml = 'Like what you see? Visit the ' +\n",
              "            '<a target=\"_blank\" href=https://colab.research.google.com/notebooks/data_table.ipynb>data table notebook</a>'\n",
              "            + ' to learn more about interactive tables.';\n",
              "          element.innerHTML = '';\n",
              "          dataTable['output_type'] = 'display_data';\n",
              "          await google.colab.output.renderOutput(dataTable, element);\n",
              "          const docLink = document.createElement('div');\n",
              "          docLink.innerHTML = docLinkHtml;\n",
              "          element.appendChild(docLink);\n",
              "        }\n",
              "      </script>\n",
              "    </div>\n",
              "  </div>\n",
              "  "
            ]
          },
          "metadata": {},
          "execution_count": 14
        }
      ]
    },
    {
      "cell_type": "code",
      "source": [
        "data.groupby('education').mean()"
      ],
      "metadata": {
        "colab": {
          "base_uri": "https://localhost:8080/",
          "height": 269
        },
        "id": "alYS96fFfKpl",
        "outputId": "d7acbc65-f6ea-4a13-c047-051cbb7afae5"
      },
      "execution_count": 15,
      "outputs": [
        {
          "output_type": "execute_result",
          "data": {
            "text/plain": [
              "                           age    duration  campaign       pdays  previous  \\\n",
              "education                                                                    \n",
              "Basic                42.131010  262.219627  2.555803  976.299716  0.141762   \n",
              "high.school          37.966776  263.164803  2.576645  964.880592  0.184375   \n",
              "illiterate           47.083333  247.583333  2.416667  999.000000  0.083333   \n",
              "professional.course  40.057278  255.692058  2.596988  959.743136  0.160319   \n",
              "university.degree    38.895226  250.772120  2.555824  950.056015  0.198218   \n",
              "unknown              43.218215  263.681695  2.567178  939.059513  0.237151   \n",
              "\n",
              "                     emp_var_rate  cons_price_idx  cons_conf_idx  euribor3m  \\\n",
              "education                                                                     \n",
              "Basic                    0.194661       93.644792     -40.893141   3.736538   \n",
              "high.school              0.049507       93.592977     -40.895576   3.571425   \n",
              "illiterate               0.225000       93.433583     -42.450000   3.839083   \n",
              "professional.course      0.179097       93.571147     -40.143608   3.714380   \n",
              "university.degree       -0.043806       93.492923     -39.988224   3.510297   \n",
              "unknown                  0.050406       93.661212     -40.014427   3.552376   \n",
              "\n",
              "                     nr_employed         y  \n",
              "education                                   \n",
              "Basic                5172.081016  0.087134  \n",
              "high.school          5165.295493  0.112664  \n",
              "illiterate           5187.775000  0.166667  \n",
              "professional.course  5170.538028  0.118984  \n",
              "university.degree    5162.305716  0.140038  \n",
              "unknown              5159.165555  0.144274  "
            ],
            "text/html": [
              "\n",
              "  <div id=\"df-3e215932-a5c6-4d07-acb1-f405a156de70\">\n",
              "    <div class=\"colab-df-container\">\n",
              "      <div>\n",
              "<style scoped>\n",
              "    .dataframe tbody tr th:only-of-type {\n",
              "        vertical-align: middle;\n",
              "    }\n",
              "\n",
              "    .dataframe tbody tr th {\n",
              "        vertical-align: top;\n",
              "    }\n",
              "\n",
              "    .dataframe thead th {\n",
              "        text-align: right;\n",
              "    }\n",
              "</style>\n",
              "<table border=\"1\" class=\"dataframe\">\n",
              "  <thead>\n",
              "    <tr style=\"text-align: right;\">\n",
              "      <th></th>\n",
              "      <th>age</th>\n",
              "      <th>duration</th>\n",
              "      <th>campaign</th>\n",
              "      <th>pdays</th>\n",
              "      <th>previous</th>\n",
              "      <th>emp_var_rate</th>\n",
              "      <th>cons_price_idx</th>\n",
              "      <th>cons_conf_idx</th>\n",
              "      <th>euribor3m</th>\n",
              "      <th>nr_employed</th>\n",
              "      <th>y</th>\n",
              "    </tr>\n",
              "    <tr>\n",
              "      <th>education</th>\n",
              "      <th></th>\n",
              "      <th></th>\n",
              "      <th></th>\n",
              "      <th></th>\n",
              "      <th></th>\n",
              "      <th></th>\n",
              "      <th></th>\n",
              "      <th></th>\n",
              "      <th></th>\n",
              "      <th></th>\n",
              "      <th></th>\n",
              "    </tr>\n",
              "  </thead>\n",
              "  <tbody>\n",
              "    <tr>\n",
              "      <th>Basic</th>\n",
              "      <td>42.131010</td>\n",
              "      <td>262.219627</td>\n",
              "      <td>2.555803</td>\n",
              "      <td>976.299716</td>\n",
              "      <td>0.141762</td>\n",
              "      <td>0.194661</td>\n",
              "      <td>93.644792</td>\n",
              "      <td>-40.893141</td>\n",
              "      <td>3.736538</td>\n",
              "      <td>5172.081016</td>\n",
              "      <td>0.087134</td>\n",
              "    </tr>\n",
              "    <tr>\n",
              "      <th>high.school</th>\n",
              "      <td>37.966776</td>\n",
              "      <td>263.164803</td>\n",
              "      <td>2.576645</td>\n",
              "      <td>964.880592</td>\n",
              "      <td>0.184375</td>\n",
              "      <td>0.049507</td>\n",
              "      <td>93.592977</td>\n",
              "      <td>-40.895576</td>\n",
              "      <td>3.571425</td>\n",
              "      <td>5165.295493</td>\n",
              "      <td>0.112664</td>\n",
              "    </tr>\n",
              "    <tr>\n",
              "      <th>illiterate</th>\n",
              "      <td>47.083333</td>\n",
              "      <td>247.583333</td>\n",
              "      <td>2.416667</td>\n",
              "      <td>999.000000</td>\n",
              "      <td>0.083333</td>\n",
              "      <td>0.225000</td>\n",
              "      <td>93.433583</td>\n",
              "      <td>-42.450000</td>\n",
              "      <td>3.839083</td>\n",
              "      <td>5187.775000</td>\n",
              "      <td>0.166667</td>\n",
              "    </tr>\n",
              "    <tr>\n",
              "      <th>professional.course</th>\n",
              "      <td>40.057278</td>\n",
              "      <td>255.692058</td>\n",
              "      <td>2.596988</td>\n",
              "      <td>959.743136</td>\n",
              "      <td>0.160319</td>\n",
              "      <td>0.179097</td>\n",
              "      <td>93.571147</td>\n",
              "      <td>-40.143608</td>\n",
              "      <td>3.714380</td>\n",
              "      <td>5170.538028</td>\n",
              "      <td>0.118984</td>\n",
              "    </tr>\n",
              "    <tr>\n",
              "      <th>university.degree</th>\n",
              "      <td>38.895226</td>\n",
              "      <td>250.772120</td>\n",
              "      <td>2.555824</td>\n",
              "      <td>950.056015</td>\n",
              "      <td>0.198218</td>\n",
              "      <td>-0.043806</td>\n",
              "      <td>93.492923</td>\n",
              "      <td>-39.988224</td>\n",
              "      <td>3.510297</td>\n",
              "      <td>5162.305716</td>\n",
              "      <td>0.140038</td>\n",
              "    </tr>\n",
              "    <tr>\n",
              "      <th>unknown</th>\n",
              "      <td>43.218215</td>\n",
              "      <td>263.681695</td>\n",
              "      <td>2.567178</td>\n",
              "      <td>939.059513</td>\n",
              "      <td>0.237151</td>\n",
              "      <td>0.050406</td>\n",
              "      <td>93.661212</td>\n",
              "      <td>-40.014427</td>\n",
              "      <td>3.552376</td>\n",
              "      <td>5159.165555</td>\n",
              "      <td>0.144274</td>\n",
              "    </tr>\n",
              "  </tbody>\n",
              "</table>\n",
              "</div>\n",
              "      <button class=\"colab-df-convert\" onclick=\"convertToInteractive('df-3e215932-a5c6-4d07-acb1-f405a156de70')\"\n",
              "              title=\"Convert this dataframe to an interactive table.\"\n",
              "              style=\"display:none;\">\n",
              "        \n",
              "  <svg xmlns=\"http://www.w3.org/2000/svg\" height=\"24px\"viewBox=\"0 0 24 24\"\n",
              "       width=\"24px\">\n",
              "    <path d=\"M0 0h24v24H0V0z\" fill=\"none\"/>\n",
              "    <path d=\"M18.56 5.44l.94 2.06.94-2.06 2.06-.94-2.06-.94-.94-2.06-.94 2.06-2.06.94zm-11 1L8.5 8.5l.94-2.06 2.06-.94-2.06-.94L8.5 2.5l-.94 2.06-2.06.94zm10 10l.94 2.06.94-2.06 2.06-.94-2.06-.94-.94-2.06-.94 2.06-2.06.94z\"/><path d=\"M17.41 7.96l-1.37-1.37c-.4-.4-.92-.59-1.43-.59-.52 0-1.04.2-1.43.59L10.3 9.45l-7.72 7.72c-.78.78-.78 2.05 0 2.83L4 21.41c.39.39.9.59 1.41.59.51 0 1.02-.2 1.41-.59l7.78-7.78 2.81-2.81c.8-.78.8-2.07 0-2.86zM5.41 20L4 18.59l7.72-7.72 1.47 1.35L5.41 20z\"/>\n",
              "  </svg>\n",
              "      </button>\n",
              "      \n",
              "  <style>\n",
              "    .colab-df-container {\n",
              "      display:flex;\n",
              "      flex-wrap:wrap;\n",
              "      gap: 12px;\n",
              "    }\n",
              "\n",
              "    .colab-df-convert {\n",
              "      background-color: #E8F0FE;\n",
              "      border: none;\n",
              "      border-radius: 50%;\n",
              "      cursor: pointer;\n",
              "      display: none;\n",
              "      fill: #1967D2;\n",
              "      height: 32px;\n",
              "      padding: 0 0 0 0;\n",
              "      width: 32px;\n",
              "    }\n",
              "\n",
              "    .colab-df-convert:hover {\n",
              "      background-color: #E2EBFA;\n",
              "      box-shadow: 0px 1px 2px rgba(60, 64, 67, 0.3), 0px 1px 3px 1px rgba(60, 64, 67, 0.15);\n",
              "      fill: #174EA6;\n",
              "    }\n",
              "\n",
              "    [theme=dark] .colab-df-convert {\n",
              "      background-color: #3B4455;\n",
              "      fill: #D2E3FC;\n",
              "    }\n",
              "\n",
              "    [theme=dark] .colab-df-convert:hover {\n",
              "      background-color: #434B5C;\n",
              "      box-shadow: 0px 1px 3px 1px rgba(0, 0, 0, 0.15);\n",
              "      filter: drop-shadow(0px 1px 2px rgba(0, 0, 0, 0.3));\n",
              "      fill: #FFFFFF;\n",
              "    }\n",
              "  </style>\n",
              "\n",
              "      <script>\n",
              "        const buttonEl =\n",
              "          document.querySelector('#df-3e215932-a5c6-4d07-acb1-f405a156de70 button.colab-df-convert');\n",
              "        buttonEl.style.display =\n",
              "          google.colab.kernel.accessAllowed ? 'block' : 'none';\n",
              "\n",
              "        async function convertToInteractive(key) {\n",
              "          const element = document.querySelector('#df-3e215932-a5c6-4d07-acb1-f405a156de70');\n",
              "          const dataTable =\n",
              "            await google.colab.kernel.invokeFunction('convertToInteractive',\n",
              "                                                     [key], {});\n",
              "          if (!dataTable) return;\n",
              "\n",
              "          const docLinkHtml = 'Like what you see? Visit the ' +\n",
              "            '<a target=\"_blank\" href=https://colab.research.google.com/notebooks/data_table.ipynb>data table notebook</a>'\n",
              "            + ' to learn more about interactive tables.';\n",
              "          element.innerHTML = '';\n",
              "          dataTable['output_type'] = 'display_data';\n",
              "          await google.colab.output.renderOutput(dataTable, element);\n",
              "          const docLink = document.createElement('div');\n",
              "          docLink.innerHTML = docLinkHtml;\n",
              "          element.appendChild(docLink);\n",
              "        }\n",
              "      </script>\n",
              "    </div>\n",
              "  </div>\n",
              "  "
            ]
          },
          "metadata": {},
          "execution_count": 15
        }
      ]
    },
    {
      "cell_type": "markdown",
      "source": [
        "### Visualizations"
      ],
      "metadata": {
        "id": "RqP2hos-fR8w"
      }
    },
    {
      "cell_type": "code",
      "source": [
        "%matplotlib inline\n",
        "pd.crosstab(data.job,data.y).plot(kind='bar')\n",
        "plt.title('Purchase Frequency for Job Title')\n",
        "plt.xlabel('Job')\n",
        "plt.ylabel('Frequency of Purchase')\n",
        "plt.savefig('purchase_fre_job')"
      ],
      "metadata": {
        "colab": {
          "base_uri": "https://localhost:8080/",
          "height": 369
        },
        "id": "_yVIjmF8fOjT",
        "outputId": "723ac50f-6151-43af-be7f-1d0c25b08862"
      },
      "execution_count": 16,
      "outputs": [
        {
          "output_type": "display_data",
          "data": {
            "text/plain": [
              "<Figure size 432x288 with 1 Axes>"
            ],
            "image/png": "[encoded data removed]"
          },
          "metadata": {
            "needs_background": "light"
          }
        }
      ]
    },
    {
      "cell_type": "markdown",
      "source": [
        "The frequency of purchase of the deposit depends a great deal on the job title. Thus, the job title can be a good predictor of the outcome variable."
      ],
      "metadata": {
        "id": "xniq4b3b1UTw"
      }
    },
    {
      "cell_type": "code",
      "source": [
        "table=pd.crosstab(data.marital,data.y)\n",
        "table.div(table.sum(1).astype(float), axis=0).plot(kind='bar', stacked=True)\n",
        "plt.title('Stacked Bar Chart of Marital Status vs Purchase')\n",
        "plt.xlabel('Marital Status')\n",
        "plt.ylabel('Proportion of Customers')\n",
        "plt.savefig('mariral_vs_pur_stack')"
      ],
      "metadata": {
        "colab": {
          "base_uri": "https://localhost:8080/",
          "height": 341
        },
        "id": "M4sjVEv-fZQm",
        "outputId": "4d54b984-243b-4a73-9311-eb4cb5ed1388"
      },
      "execution_count": 17,
      "outputs": [
        {
          "output_type": "display_data",
          "data": {
            "text/plain": [
              "<Figure size 432x288 with 1 Axes>"
            ],
            "image/png": "[encoded data removed]"
          },
          "metadata": {
            "needs_background": "light"
          }
        }
      ]
    },
    {
      "cell_type": "markdown",
      "source": [
        "The marital status does not seem a strong predictor for the outcome variable."
      ],
      "metadata": {
        "id": "bmVw9jbZ1ZtS"
      }
    },
    {
      "cell_type": "code",
      "source": [
        "table=pd.crosstab(data.education,data.y)\n",
        "table.div(table.sum(1).astype(float), axis=0).plot(kind='bar', stacked=True)\n",
        "plt.title('Stacked Bar Chart of Education vs Purchase')\n",
        "plt.xlabel('Education')\n",
        "plt.ylabel('Proportion of Customers')\n",
        "plt.savefig('edu_vs_pur_stack')"
      ],
      "metadata": {
        "colab": {
          "base_uri": "https://localhost:8080/",
          "height": 398
        },
        "id": "ENpaGHmafdb6",
        "outputId": "76accd0b-49b3-4330-f4d8-962b2c47b03d"
      },
      "execution_count": 18,
      "outputs": [
        {
          "output_type": "display_data",
          "data": {
            "text/plain": [
              "<Figure size 432x288 with 1 Axes>"
            ],
            "image/png": "[encoded data removed]"
          },
          "metadata": {
            "needs_background": "light"
          }
        }
      ]
    },
    {
      "cell_type": "markdown",
      "source": [
        "Education seems a good predictor of the outcome variable."
      ],
      "metadata": {
        "id": "GBxxqet81dac"
      }
    },
    {
      "cell_type": "code",
      "source": [
        "pd.crosstab(data.day_of_week,data.y).plot(kind='bar')\n",
        "plt.title('Purchase Frequency for Day of Week')\n",
        "plt.xlabel('Day of Week')\n",
        "plt.ylabel('Frequency of Purchase')\n",
        "plt.savefig('pur_dayofweek_bar')"
      ],
      "metadata": {
        "colab": {
          "base_uri": "https://localhost:8080/",
          "height": 315
        },
        "id": "rdDZ1KQ1fh7V",
        "outputId": "4b254e2a-3434-4c5e-8af8-66b473560ba5"
      },
      "execution_count": 19,
      "outputs": [
        {
          "output_type": "display_data",
          "data": {
            "text/plain": [
              "<Figure size 432x288 with 1 Axes>"
            ],
            "image/png": "[encoded data removed]"
          },
          "metadata": {
            "needs_background": "light"
          }
        }
      ]
    },
    {
      "cell_type": "markdown",
      "source": [
        "Day of week may not be a good predictor of the outcome."
      ],
      "metadata": {
        "id": "qyRdbI5A1iTx"
      }
    },
    {
      "cell_type": "code",
      "source": [
        "pd.crosstab(data.month,data.y).plot(kind='bar')\n",
        "plt.title('Purchase Frequency for Month')\n",
        "plt.xlabel('Month')\n",
        "plt.ylabel('Frequency of Purchase')\n",
        "plt.savefig('pur_fre_month_bar')"
      ],
      "metadata": {
        "colab": {
          "base_uri": "https://localhost:8080/",
          "height": 315
        },
        "id": "FtSe9ANSfl8H",
        "outputId": "2b046b98-8b90-44a6-c5f9-88595c9219b1"
      },
      "execution_count": 20,
      "outputs": [
        {
          "output_type": "display_data",
          "data": {
            "text/plain": [
              "<Figure size 432x288 with 1 Axes>"
            ],
            "image/png": "[encoded data removed]"
          },
          "metadata": {
            "needs_background": "light"
          }
        }
      ]
    },
    {
      "cell_type": "markdown",
      "source": [
        "Month might be a good predictor of the outcome variable."
      ],
      "metadata": {
        "id": "cpFTZIVd1mW6"
      }
    },
    {
      "cell_type": "code",
      "source": [
        "data.age.hist()\n",
        "plt.title('Histogram of Age')\n",
        "plt.xlabel('Age')\n",
        "plt.ylabel('Frequency')\n",
        "plt.savefig('hist_age')"
      ],
      "metadata": {
        "colab": {
          "base_uri": "https://localhost:8080/",
          "height": 301
        },
        "id": "3FMDk5I-fqdg",
        "outputId": "67848177-6017-4e3a-ecd0-4b3488924840"
      },
      "execution_count": 21,
      "outputs": [
        {
          "output_type": "display_data",
          "data": {
            "text/plain": [
              "<Figure size 432x288 with 1 Axes>"
            ],
            "image/png": "[encoded data removed]"
          },
          "metadata": {
            "needs_background": "light"
          }
        }
      ]
    },
    {
      "cell_type": "markdown",
      "source": [
        "Most of the customers of the bank in this dataset are in the age range of 30–40."
      ],
      "metadata": {
        "id": "IKjwYU-v1qkZ"
      }
    },
    {
      "cell_type": "code",
      "source": [
        "pd.crosstab(data.poutcome,data.y).plot(kind='bar')\n",
        "plt.title('Purchase Frequency for Poutcome')\n",
        "plt.xlabel('Poutcome')\n",
        "plt.ylabel('Frequency of Purchase')\n",
        "plt.savefig('pur_fre_pout_bar')"
      ],
      "metadata": {
        "colab": {
          "base_uri": "https://localhost:8080/",
          "height": 356
        },
        "id": "fm0IRragfwbF",
        "outputId": "1322b689-1195-4247-9574-f93a0e6f6a3f"
      },
      "execution_count": 22,
      "outputs": [
        {
          "output_type": "display_data",
          "data": {
            "text/plain": [
              "<Figure size 432x288 with 1 Axes>"
            ],
            "image/png": "[encoded data removed]"
          },
          "metadata": {
            "needs_background": "light"
          }
        }
      ]
    },
    {
      "cell_type": "markdown",
      "source": [
        "Poutcome seems to be a good predictor of the outcome variable."
      ],
      "metadata": {
        "id": "BlnDRP871us_"
      }
    },
    {
      "cell_type": "markdown",
      "source": [
        "### Create dummy variables\n",
        "That is variables with only two values, zero and one."
      ],
      "metadata": {
        "id": "HAyFLueEfzqd"
      }
    },
    {
      "cell_type": "code",
      "source": [
        "cat_vars=['job','marital','education','default','housing','loan','contact','month','day_of_week','poutcome']\n",
        "for var in cat_vars:\n",
        "    cat_list='var'+'_'+var\n",
        "    cat_list = pd.get_dummies(data[var], prefix=var)\n",
        "    data1=data.join(cat_list)\n",
        "    data=data1\n",
        "cat_vars=['job','marital','education','default','housing','loan','contact','month','day_of_week','poutcome']\n",
        "data_vars=data.columns.values.tolist()\n",
        "to_keep=[i for i in data_vars if i not in cat_vars]"
      ],
      "metadata": {
        "id": "_0N7vqgjf196"
      },
      "execution_count": 23,
      "outputs": []
    },
    {
      "cell_type": "code",
      "source": [
        "# Our final data columns will be:\n",
        "data_final=data[to_keep]\n",
        "data_final.columns.values"
      ],
      "metadata": {
        "colab": {
          "base_uri": "https://localhost:8080/"
        },
        "id": "KfpW3cdqf5OS",
        "outputId": "2b0683a6-0fd3-41c2-9ab7-aff3482b19de"
      },
      "execution_count": 24,
      "outputs": [
        {
          "output_type": "execute_result",
          "data": {
            "text/plain": [
              "array(['age', 'duration', 'campaign', 'pdays', 'previous', 'emp_var_rate',\n",
              "       'cons_price_idx', 'cons_conf_idx', 'euribor3m', 'nr_employed', 'y',\n",
              "       'job_admin.', 'job_blue-collar', 'job_entrepreneur',\n",
              "       'job_housemaid', 'job_management', 'job_retired',\n",
              "       'job_self-employed', 'job_services', 'job_student',\n",
              "       'job_technician', 'job_unemployed', 'job_unknown',\n",
              "       'marital_divorced', 'marital_married', 'marital_single',\n",
              "       'marital_unknown', 'education_Basic', 'education_high.school',\n",
              "       'education_illiterate', 'education_professional.course',\n",
              "       'education_university.degree', 'education_unknown', 'default_no',\n",
              "       'default_unknown', 'default_yes', 'housing_no', 'housing_unknown',\n",
              "       'housing_yes', 'loan_no', 'loan_unknown', 'loan_yes',\n",
              "       'contact_cellular', 'contact_telephone', 'month_apr', 'month_aug',\n",
              "       'month_dec', 'month_jul', 'month_jun', 'month_mar', 'month_may',\n",
              "       'month_nov', 'month_oct', 'month_sep', 'day_of_week_fri',\n",
              "       'day_of_week_mon', 'day_of_week_thu', 'day_of_week_tue',\n",
              "       'day_of_week_wed', 'poutcome_failure', 'poutcome_nonexistent',\n",
              "       'poutcome_success'], dtype=object)"
            ]
          },
          "metadata": {},
          "execution_count": 24
        }
      ]
    },
    {
      "cell_type": "markdown",
      "source": [
        "### Over-sampling using SMOTE\n",
        "With our training data created, I’ll up-sample the no-subscription using the SMOTE algorithm(Synthetic Minority Oversampling Technique). At a high level, SMOTE:\n",
        "1. Works by creating synthetic samples from the minor class (no-subscription) instead of creating copies.\n",
        "2. Randomly choosing one of the k-nearest-neighbors and using it to create a similar, but randomly tweaked, new observations."
      ],
      "metadata": {
        "id": "MC_lm6K8f_tv"
      }
    },
    {
      "cell_type": "code",
      "source": [
        "pip install imblearn"
      ],
      "metadata": {
        "colab": {
          "base_uri": "https://localhost:8080/"
        },
        "id": "qYhK4mXpgLff",
        "outputId": "a126b31d-4ed7-4a10-f16e-149a58eec477"
      },
      "execution_count": 25,
      "outputs": [
        {
          "output_type": "stream",
          "name": "stdout",
          "text": [
            "Requirement already satisfied: imblearn in /usr/local/lib/python3.7/dist-packages (0.0)\n",
            "Requirement already satisfied: imbalanced-learn in /usr/local/lib/python3.7/dist-packages (from imblearn) (0.8.1)\n",
            "Requirement already satisfied: joblib>=0.11 in /usr/local/lib/python3.7/dist-packages (from imbalanced-learn->imblearn) (1.1.0)\n",
            "Requirement already satisfied: scikit-learn>=0.24 in /usr/local/lib/python3.7/dist-packages (from imbalanced-learn->imblearn) (1.0.2)\n",
            "Requirement already satisfied: scipy>=0.19.1 in /usr/local/lib/python3.7/dist-packages (from imbalanced-learn->imblearn) (1.4.1)\n",
            "Requirement already satisfied: numpy>=1.13.3 in /usr/local/lib/python3.7/dist-packages (from imbalanced-learn->imblearn) (1.21.5)\n",
            "Requirement already satisfied: threadpoolctl>=2.0.0 in /usr/local/lib/python3.7/dist-packages (from scikit-learn>=0.24->imbalanced-learn->imblearn) (3.1.0)\n"
          ]
        }
      ]
    },
    {
      "cell_type": "code",
      "source": [
        "X = data_final.loc[:, data_final.columns != 'y']\n",
        "y = data_final.loc[:, data_final.columns == 'y']\n",
        "from imblearn.over_sampling import SMOTE\n",
        "os = SMOTE(random_state=0)\n",
        "X_train, X_test, y_train, y_test = train_test_split(X, y, test_size=0.3, random_state=0)\n",
        "columns = X_train.columns\n",
        "os_data_X,os_data_y=os.fit_resample(X_train, y_train)\n",
        "os_data_X = pd.DataFrame(data=os_data_X,columns=columns )\n",
        "os_data_y= pd.DataFrame(data=os_data_y,columns=['y'])\n",
        "# we can Check the numbers of our data\n",
        "print(\"length of oversampled data is \",len(os_data_X))\n",
        "print(\"Number of no subscription in oversampled data\",len(os_data_y[os_data_y['y']==0]))\n",
        "print(\"Number of subscription\",len(os_data_y[os_data_y['y']==1]))\n",
        "print(\"Proportion of no subscription data in oversampled data is \",len(os_data_y[os_data_y['y']==0])/len(os_data_X))\n",
        "print(\"Proportion of subscription data in oversampled data is \",len(os_data_y[os_data_y['y']==1])/len(os_data_X))"
      ],
      "metadata": {
        "colab": {
          "base_uri": "https://localhost:8080/"
        },
        "id": "OcReR7S0gDee",
        "outputId": "1b141a3b-f15a-4673-e30a-7bc7a6febcec"
      },
      "execution_count": 26,
      "outputs": [
        {
          "output_type": "stream",
          "name": "stdout",
          "text": [
            "length of oversampled data is  32846\n",
            "Number of no subscription in oversampled data 16423\n",
            "Number of subscription 16423\n",
            "Proportion of no subscription data in oversampled data is  0.5\n",
            "Proportion of subscription data in oversampled data is  0.5\n"
          ]
        }
      ]
    },
    {
      "cell_type": "markdown",
      "source": [
        "Now we have a perfect balanced data! You may have noticed that I over-sampled only on the training data, because by oversampling only on the training data, none of the information in the test data is being used to create synthetic observations, therefore, no information will bleed from test data into the model training."
      ],
      "metadata": {
        "id": "StZuklu02aTf"
      }
    },
    {
      "cell_type": "markdown",
      "source": [
        "### Recursive Feature Elimination"
      ],
      "metadata": {
        "id": "j_OpiAfPhB9V"
      }
    },
    {
      "cell_type": "code",
      "source": [
        "data_final_vars=data_final.columns.values.tolist()\n",
        "y=['y']\n",
        "X=[i for i in data_final_vars if i not in y]"
      ],
      "metadata": {
        "id": "45mOoXCPs1lV"
      },
      "execution_count": 27,
      "outputs": []
    },
    {
      "cell_type": "code",
      "source": [
        "from sklearn import datasets\n",
        "from sklearn.feature_selection import RFE\n",
        "from sklearn.linear_model import LogisticRegression\n",
        "\n",
        "logreg = LogisticRegression()\n",
        "\n",
        "rfe = RFE(logreg, 20)\n",
        "rfe = rfe.fit(os_data_X, os_data_y.values.ravel())\n",
        "print(rfe.support_)\n",
        "print(rfe.ranking_)"
      ],
      "metadata": {
        "colab": {
          "base_uri": "https://localhost:8080/",
          "height": 235
        },
        "id": "2zAjaCEas5ZG",
        "outputId": "9c10a09b-eccc-4142-c809-156fbcf0a493"
      },
      "execution_count": 28,
      "outputs": [
        {
          "output_type": "error",
          "ename": "TypeError",
          "evalue": "ignored",
          "traceback": [
            "\u001b[0;31m---------------------------------------------------------------------------\u001b[0m",
            "\u001b[0;31mTypeError\u001b[0m                                 Traceback (most recent call last)",
            "\u001b[0;32m<ipython-input-28-700476514289>\u001b[0m in \u001b[0;36m<module>\u001b[0;34m()\u001b[0m\n\u001b[1;32m      5\u001b[0m \u001b[0mlogreg\u001b[0m \u001b[0;34m=\u001b[0m \u001b[0mLogisticRegression\u001b[0m\u001b[0;34m(\u001b[0m\u001b[0;34m)\u001b[0m\u001b[0;34m\u001b[0m\u001b[0;34m\u001b[0m\u001b[0m\n\u001b[1;32m      6\u001b[0m \u001b[0;34m\u001b[0m\u001b[0m\n\u001b[0;32m----> 7\u001b[0;31m \u001b[0mrfe\u001b[0m \u001b[0;34m=\u001b[0m \u001b[0mRFE\u001b[0m\u001b[0;34m(\u001b[0m\u001b[0mlogreg\u001b[0m\u001b[0;34m,\u001b[0m \u001b[0;36m20\u001b[0m\u001b[0;34m)\u001b[0m\u001b[0;34m\u001b[0m\u001b[0;34m\u001b[0m\u001b[0m\n\u001b[0m\u001b[1;32m      8\u001b[0m \u001b[0mrfe\u001b[0m \u001b[0;34m=\u001b[0m \u001b[0mrfe\u001b[0m\u001b[0;34m.\u001b[0m\u001b[0mfit\u001b[0m\u001b[0;34m(\u001b[0m\u001b[0mos_data_X\u001b[0m\u001b[0;34m,\u001b[0m \u001b[0mos_data_y\u001b[0m\u001b[0;34m.\u001b[0m\u001b[0mvalues\u001b[0m\u001b[0;34m.\u001b[0m\u001b[0mravel\u001b[0m\u001b[0;34m(\u001b[0m\u001b[0;34m)\u001b[0m\u001b[0;34m)\u001b[0m\u001b[0;34m\u001b[0m\u001b[0;34m\u001b[0m\u001b[0m\n\u001b[1;32m      9\u001b[0m \u001b[0mprint\u001b[0m\u001b[0;34m(\u001b[0m\u001b[0mrfe\u001b[0m\u001b[0;34m.\u001b[0m\u001b[0msupport_\u001b[0m\u001b[0;34m)\u001b[0m\u001b[0;34m\u001b[0m\u001b[0;34m\u001b[0m\u001b[0m\n",
            "\u001b[0;31mTypeError\u001b[0m: __init__() takes 2 positional arguments but 3 were given"
          ]
        }
      ]
    },
    {
      "cell_type": "code",
      "source": [
        "cols=['euribor3m', 'job_blue-collar', 'job_housemaid', 'marital_unknown', 'education_illiterate', 'default_no', 'default_unknown', \n",
        "      'contact_cellular', 'contact_telephone', 'month_apr', 'month_aug', 'month_dec', 'month_jul', 'month_jun', 'month_mar', \n",
        "      'month_may', 'month_nov', 'month_oct', \"poutcome_failure\", \"poutcome_success\"] \n",
        "X=os_data_X[cols]\n",
        "y=os_data_y['y']"
      ],
      "metadata": {
        "id": "lpfUOn5ypgXM"
      },
      "execution_count": 29,
      "outputs": []
    },
    {
      "cell_type": "markdown",
      "source": [
        "### Implementing the model"
      ],
      "metadata": {
        "id": "vW6geja3pkkj"
      }
    },
    {
      "cell_type": "code",
      "source": [
        "import statsmodels.api as sm\n",
        "logit_model=sm.Logit(y,X)\n",
        "result=logit_model.fit()\n",
        "print(result.summary2())"
      ],
      "metadata": {
        "colab": {
          "base_uri": "https://localhost:8080/"
        },
        "id": "TJw_tJwvpmag",
        "outputId": "a948bd34-bba7-4b8c-b877-b812c95a48f5"
      },
      "execution_count": 31,
      "outputs": [
        {
          "output_type": "stream",
          "name": "stdout",
          "text": [
            "Optimization terminated successfully.\n",
            "         Current function value: 0.449604\n",
            "         Iterations 7\n",
            "                           Results: Logit\n",
            "=====================================================================\n",
            "Model:                Logit             Pseudo R-squared:  0.351     \n",
            "Dependent Variable:   y                 AIC:               29575.3880\n",
            "Date:                 2022-03-17 07:57  BIC:               29743.3797\n",
            "No. Observations:     32846             Log-Likelihood:    -14768.   \n",
            "Df Model:             19                LL-Null:           -22767.   \n",
            "Df Residuals:         32826             LLR p-value:       0.0000    \n",
            "Converged:            1.0000            Scale:             1.0000    \n",
            "No. Iterations:       7.0000                                         \n",
            "---------------------------------------------------------------------\n",
            "                      Coef.  Std.Err.    z     P>|z|   [0.025  0.975]\n",
            "---------------------------------------------------------------------\n",
            "euribor3m             0.1635   0.0100  16.4080 0.0000  0.1440  0.1831\n",
            "job_blue-collar      -1.0754   0.0488 -22.0383 0.0000 -1.1710 -0.9797\n",
            "job_housemaid        -1.5831   0.1701  -9.3055 0.0000 -1.9165 -1.2496\n",
            "marital_unknown      -1.1039   0.5109  -2.1608 0.0307 -2.1052 -0.1026\n",
            "education_illiterate -0.4321   0.8560  -0.5048 0.6137 -2.1099  1.2456\n",
            "default_no            0.7566   0.0460  16.4438 0.0000  0.6664  0.8467\n",
            "default_unknown      -0.5115   0.0718  -7.1264 0.0000 -0.6522 -0.3708\n",
            "contact_cellular      1.5822   0.0561  28.2226 0.0000  1.4724  1.6921\n",
            "contact_telephone    -0.2094   0.0728  -2.8773 0.0040 -0.3520 -0.0667\n",
            "month_apr            -2.2831   0.0692 -32.9735 0.0000 -2.4188 -2.1474\n",
            "month_aug            -3.8190   0.0673 -56.7846 0.0000 -3.9508 -3.6872\n",
            "month_dec            -2.2986   0.2478  -9.2774 0.0000 -2.7841 -1.8130\n",
            "month_jul            -3.4668   0.0659 -52.5690 0.0000 -3.5961 -3.3376\n",
            "month_jun            -2.3269   0.0689 -33.7607 0.0000 -2.4619 -2.1918\n",
            "month_mar            -1.2329   0.1212 -10.1731 0.0000 -1.4704 -0.9953\n",
            "month_may            -2.5413   0.0563 -45.1367 0.0000 -2.6516 -2.4309\n",
            "month_nov            -3.5866   0.0716 -50.0660 0.0000 -3.7270 -3.4462\n",
            "month_oct            -1.0854   0.1082 -10.0341 0.0000 -1.2974 -0.8734\n",
            "poutcome_failure     -0.9496   0.0588 -16.1473 0.0000 -1.0649 -0.8343\n",
            "poutcome_success      2.4846   0.0864  28.7493 0.0000  2.3152  2.6539\n",
            "=====================================================================\n",
            "\n"
          ]
        }
      ]
    },
    {
      "cell_type": "markdown",
      "source": [
        "The p-values for most of the variables are smaller than 0.05, except one variables, therefore, we will remove them."
      ],
      "metadata": {
        "id": "tDQk3Jbi2u3I"
      }
    },
    {
      "cell_type": "code",
      "source": [
        "cols=['euribor3m', 'job_blue-collar', 'job_housemaid', 'marital_unknown', 'default_no', 'default_unknown', 'contact_cellular', 'contact_telephone', \n",
        "      'month_apr', 'month_aug', 'month_dec', 'month_jul', 'month_jun', 'month_mar', \n",
        "      'month_may', 'month_nov', 'month_oct', \"poutcome_failure\", \"poutcome_success\"] \n",
        "X=os_data_X[cols]\n",
        "y=os_data_y['y']\n",
        "logit_model=sm.Logit(y,X)\n",
        "result=logit_model.fit()\n",
        "print(result.summary2())"
      ],
      "metadata": {
        "colab": {
          "base_uri": "https://localhost:8080/"
        },
        "id": "nDs8ue_Epu--",
        "outputId": "e791f4bc-44f3-41ff-9ba3-2f31c5f0078f"
      },
      "execution_count": 32,
      "outputs": [
        {
          "output_type": "stream",
          "name": "stdout",
          "text": [
            "Optimization terminated successfully.\n",
            "         Current function value: 0.449608\n",
            "         Iterations 7\n",
            "                          Results: Logit\n",
            "==================================================================\n",
            "Model:               Logit            Pseudo R-squared: 0.351     \n",
            "Dependent Variable:  y                AIC:              29573.6582\n",
            "Date:                2022-03-17 07:57 BIC:              29733.2503\n",
            "No. Observations:    32846            Log-Likelihood:   -14768.   \n",
            "Df Model:            18               LL-Null:          -22767.   \n",
            "Df Residuals:        32827            LLR p-value:      0.0000    \n",
            "Converged:           1.0000           Scale:            1.0000    \n",
            "No. Iterations:      7.0000                                       \n",
            "------------------------------------------------------------------\n",
            "                   Coef.  Std.Err.    z     P>|z|   [0.025  0.975]\n",
            "------------------------------------------------------------------\n",
            "euribor3m          0.1635   0.0100  16.4068 0.0000  0.1440  0.1830\n",
            "job_blue-collar   -1.0755   0.0488 -22.0423 0.0000 -1.1712 -0.9799\n",
            "job_housemaid     -1.5829   0.1701  -9.3046 0.0000 -1.9164 -1.2495\n",
            "marital_unknown   -1.1038   0.5109  -2.1606 0.0307 -2.1051 -0.1025\n",
            "default_no         0.7566   0.0460  16.4439 0.0000  0.6664  0.8468\n",
            "default_unknown   -0.5116   0.0718  -7.1279 0.0000 -0.6523 -0.3709\n",
            "contact_cellular   1.5822   0.0561  28.2222 0.0000  1.4723  1.6921\n",
            "contact_telephone -0.2093   0.0728  -2.8760 0.0040 -0.3519 -0.0667\n",
            "month_apr         -2.2836   0.0692 -32.9849 0.0000 -2.4193 -2.1479\n",
            "month_aug         -3.8190   0.0673 -56.7851 0.0000 -3.9509 -3.6872\n",
            "month_dec         -2.2986   0.2478  -9.2774 0.0000 -2.7842 -1.8130\n",
            "month_jul         -3.4669   0.0659 -52.5705 0.0000 -3.5962 -3.3377\n",
            "month_jun         -2.3269   0.0689 -33.7607 0.0000 -2.4619 -2.1918\n",
            "month_mar         -1.2328   0.1212 -10.1729 0.0000 -1.4704 -0.9953\n",
            "month_may         -2.5413   0.0563 -45.1368 0.0000 -2.6516 -2.4309\n",
            "month_nov         -3.5872   0.0716 -50.0789 0.0000 -3.7276 -3.4468\n",
            "month_oct         -1.0854   0.1082 -10.0342 0.0000 -1.2974 -0.8734\n",
            "poutcome_failure  -0.9496   0.0588 -16.1468 0.0000 -1.0648 -0.8343\n",
            "poutcome_success   2.4847   0.0864  28.7509 0.0000  2.3153  2.6541\n",
            "==================================================================\n",
            "\n"
          ]
        }
      ]
    },
    {
      "cell_type": "markdown",
      "source": [
        "### Logistic Regression Model Fitting"
      ],
      "metadata": {
        "id": "Zw5gyQnapzC-"
      }
    },
    {
      "cell_type": "code",
      "source": [
        "from sklearn.linear_model import LogisticRegression\n",
        "from sklearn import metrics\n",
        "X_train, X_test, y_train, y_test = train_test_split(X, y, test_size=0.3, random_state=0)\n",
        "logreg = LogisticRegression()\n",
        "logreg.fit(X_train, y_train)"
      ],
      "metadata": {
        "colab": {
          "base_uri": "https://localhost:8080/"
        },
        "id": "ipJV-KrCpwL2",
        "outputId": "5db58bce-8787-4c48-c857-2b6605db3009"
      },
      "execution_count": 33,
      "outputs": [
        {
          "output_type": "stream",
          "name": "stderr",
          "text": [
            "/usr/local/lib/python3.7/dist-packages/sklearn/linear_model/_logistic.py:818: ConvergenceWarning: lbfgs failed to converge (status=1):\n",
            "STOP: TOTAL NO. of ITERATIONS REACHED LIMIT.\n",
            "\n",
            "Increase the number of iterations (max_iter) or scale the data as shown in:\n",
            "    https://scikit-learn.org/stable/modules/preprocessing.html\n",
            "Please also refer to the documentation for alternative solver options:\n",
            "    https://scikit-learn.org/stable/modules/linear_model.html#logistic-regression\n",
            "  extra_warning_msg=_LOGISTIC_SOLVER_CONVERGENCE_MSG,\n"
          ]
        },
        {
          "output_type": "execute_result",
          "data": {
            "text/plain": [
              "LogisticRegression()"
            ]
          },
          "metadata": {},
          "execution_count": 33
        }
      ]
    },
    {
      "cell_type": "markdown",
      "source": [
        "#### Predicting the test set results and calculating the accuracy"
      ],
      "metadata": {
        "id": "Ii8k0tHSp6Bc"
      }
    },
    {
      "cell_type": "code",
      "source": [
        "y_pred = logreg.predict(X_test)\n",
        "print('Accuracy of logistic regression classifier on test set: {:.2f}'.format(logreg.score(X_test, y_test)))"
      ],
      "metadata": {
        "colab": {
          "base_uri": "https://localhost:8080/"
        },
        "id": "XUsJoAv-p7hr",
        "outputId": "8586b679-8acb-4fc8-cb3d-b6d8b7a70a66"
      },
      "execution_count": 34,
      "outputs": [
        {
          "output_type": "stream",
          "name": "stdout",
          "text": [
            "Accuracy of logistic regression classifier on test set: 0.87\n"
          ]
        }
      ]
    },
    {
      "cell_type": "markdown",
      "source": [
        "### Confusion Matrix"
      ],
      "metadata": {
        "id": "4zXKPg48qMUe"
      }
    },
    {
      "cell_type": "code",
      "source": [
        "from sklearn.metrics import confusion_matrix\n",
        "confusion_matrix = confusion_matrix(y_test, y_pred)\n",
        "print(confusion_matrix)"
      ],
      "metadata": {
        "colab": {
          "base_uri": "https://localhost:8080/"
        },
        "id": "smhH5wJ_qNek",
        "outputId": "5a616af5-c9b1-457b-ba4c-eaada59a9017"
      },
      "execution_count": 35,
      "outputs": [
        {
          "output_type": "stream",
          "name": "stdout",
          "text": [
            "[[4492  428]\n",
            " [ 827 4107]]\n"
          ]
        }
      ]
    },
    {
      "cell_type": "markdown",
      "source": [
        "The result is telling us that we have 4492+4104 correct predictions and 428+827 incorrect predictions."
      ],
      "metadata": {
        "id": "01vLzENOqXVc"
      }
    },
    {
      "cell_type": "markdown",
      "source": [
        "### Compute precision, recall, F-measure and support"
      ],
      "metadata": {
        "id": "VcS-oQ6eql5f"
      }
    },
    {
      "cell_type": "code",
      "source": [
        "from sklearn.metrics import classification_report\n",
        "print(classification_report(y_test, y_pred))"
      ],
      "metadata": {
        "colab": {
          "base_uri": "https://localhost:8080/"
        },
        "id": "H4MsEaK8qlXs",
        "outputId": "b8c1e59a-5f2c-429a-a30c-548db38e3450"
      },
      "execution_count": 36,
      "outputs": [
        {
          "output_type": "stream",
          "name": "stdout",
          "text": [
            "              precision    recall  f1-score   support\n",
            "\n",
            "         0.0       0.84      0.91      0.88      4920\n",
            "         1.0       0.91      0.83      0.87      4934\n",
            "\n",
            "    accuracy                           0.87      9854\n",
            "   macro avg       0.88      0.87      0.87      9854\n",
            "weighted avg       0.88      0.87      0.87      9854\n",
            "\n"
          ]
        }
      ]
    },
    {
      "cell_type": "markdown",
      "source": [
        "Interpretation: Of the entire test set, 87% of the promoted term deposit were the term deposit that the customers liked. Of the entire test set, 783 of the customer’s preferred term deposits that were promoted."
      ],
      "metadata": {
        "id": "uTNZvLujq2oV"
      }
    },
    {
      "cell_type": "markdown",
      "source": [
        "### ROC Curve"
      ],
      "metadata": {
        "id": "flNLPfkgq8y3"
      }
    },
    {
      "cell_type": "code",
      "source": [
        "from sklearn.metrics import roc_auc_score\n",
        "from sklearn.metrics import roc_curve\n",
        "logit_roc_auc = roc_auc_score(y_test, logreg.predict(X_test))\n",
        "fpr, tpr, thresholds = roc_curve(y_test, logreg.predict_proba(X_test)[:,1])\n",
        "plt.figure()\n",
        "plt.plot(fpr, tpr, label='Logistic Regression (area = %0.2f)' % logit_roc_auc)\n",
        "plt.plot([0, 1], [0, 1],'r--')\n",
        "plt.xlim([0.0, 1.0])\n",
        "plt.ylim([0.0, 1.05])\n",
        "plt.xlabel('False Positive Rate')\n",
        "plt.ylabel('True Positive Rate')\n",
        "plt.title('Receiver operating characteristic')\n",
        "plt.legend(loc=\"lower right\")\n",
        "plt.savefig('Log_ROC')\n",
        "plt.show()"
      ],
      "metadata": {
        "colab": {
          "base_uri": "https://localhost:8080/",
          "height": 301
        },
        "id": "Qj-fzMR2qT1B",
        "outputId": "bb768f7a-c4be-4d25-e27e-0905f1e75e06"
      },
      "execution_count": 37,
      "outputs": [
        {
          "output_type": "display_data",
          "data": {
            "text/plain": [
              "<Figure size 432x288 with 1 Axes>"
            ],
            "image/png": "[encoded data removed]"
          },
          "metadata": {
            "needs_background": "light"
          }
        }
      ]
    }
  ]
}